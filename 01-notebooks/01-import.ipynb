{
 "cells": [
  {
   "cell_type": "code",
   "execution_count": 7,
   "metadata": {},
   "outputs": [],
   "source": [
    "import json\n",
    "import requests\n",
    "import praw\n",
    "import os"
   ]
  },
  {
   "cell_type": "code",
   "execution_count": 8,
   "metadata": {},
   "outputs": [],
   "source": [
    "reddit = praw.Reddit(\n",
    "    client_id = \"secret\",\n",
    "    client_secret=\"secret\",\n",
    "    user_agent=\"export wiki pages/1.0 \"\n",
    ")"
   ]
  },
  {
   "cell_type": "code",
   "execution_count": 9,
   "metadata": {},
   "outputs": [],
   "source": [
    "wikis =  reddit.subreddit(\"germany\").wiki"
   ]
  },
  {
   "cell_type": "code",
   "execution_count": 33,
   "metadata": {},
   "outputs": [],
   "source": [
    "keep_list = [\"american-dream\",\n",
    "\"autobahn_safety\",\n",
    "\"blue-card\",\n",
    "\"citizenship\",\n",
    "\"citizenship-detour\",\n",
    "\"culture/etiquette\",\n",
    "\"culture/food\",\n",
    "\"gun-deaths\",\n",
    "\"health_insurance\",\n",
    "\"how-to-germany\",\n",
    "\"how-to-study\",\n",
    "\"immigrants\",\n",
    "\"liability-insurance\",\n",
    "\"living\",\n",
    "\"living/anmeldung\",\n",
    "\"living/banking\",\n",
    "\"living/buying-property\",\n",
    "\"living/cannabis\",\n",
    "\"living/car\",\n",
    "\"living/climate\",\n",
    "\"living/connectivity\",\n",
    "\"living/downloads\",\n",
    "\"living/finances\",\n",
    "\"studying/housing\",\n",
    "\"living/knowing-german\",\n",
    "\"living/problems\",\n",
    "\"living/rundfunkbeitrag\",\n",
    "\"living/savingmoney\",\n",
    "\"living/shipping\",\n",
    "\"living/shoping\",\n",
    "\"living/why\",\n",
    "\"overton-window\",\n",
    "\"paths\",\n",
    "\"progressive\",\n",
    "\"studying\",\n",
    "\"studying/financing\",\n",
    "\"studying/general\",\n",
    "\"studying/guide\",\n",
    "\"studying/immigration\",\n",
    "\"studying/research\",\n",
    "\"studying/resources\",\n",
    "\"taxes\",\n",
    "\"travelling\",\n",
    "\"working/findingajob\",\n",
    "\"working/freelance\",\n",
    "\"working/parental_leave\",\n",
    "\"working/remote\",\n",
    "\"working/requirements\"]"
   ]
  },
  {
   "cell_type": "code",
   "execution_count": 34,
   "metadata": {},
   "outputs": [],
   "source": [
    "wiki_dict = {}"
   ]
  },
  {
   "cell_type": "code",
   "execution_count": 35,
   "metadata": {},
   "outputs": [],
   "source": [
    "for page in keep_list:\n",
    "    content = wikis[page].content_md\n",
    "    wiki_dict[page] = content"
   ]
  },
  {
   "cell_type": "code",
   "execution_count": 36,
   "metadata": {},
   "outputs": [],
   "source": [
    "folder = \"./wikis\""
   ]
  },
  {
   "cell_type": "code",
   "execution_count": 38,
   "metadata": {},
   "outputs": [],
   "source": [
    "p = \"https://www.reddit.com/r/germany/wiki\""
   ]
  },
  {
   "cell_type": "code",
   "execution_count": 40,
   "metadata": {},
   "outputs": [],
   "source": [
    "for name, content in wiki_dict.items():\n",
    "    new_name = name.replace(\"/\", \"-\")\n",
    "    with open(f\"{folder}/{new_name}.md\", \"w\", encoding=\"utf-8\") as file:\n",
    "        file.write(f\"{p}/{name}\\n\\n\")\n",
    "        file.write(content)\n",
    "    \n",
    "\n"
   ]
  },
  {
   "cell_type": "code",
   "execution_count": null,
   "metadata": {},
   "outputs": [],
   "source": []
  }
 ],
 "metadata": {
  "kernelspec": {
   "display_name": "proje-m46awf8E",
   "language": "python",
   "name": "python3"
  },
  "language_info": {
   "codemirror_mode": {
    "name": "ipython",
    "version": 3
   },
   "file_extension": ".py",
   "mimetype": "text/x-python",
   "name": "python",
   "nbconvert_exporter": "python",
   "pygments_lexer": "ipython3",
   "version": "3.11.2"
  }
 },
 "nbformat": 4,
 "nbformat_minor": 2
}
