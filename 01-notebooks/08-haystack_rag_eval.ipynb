{
 "cells": [
  {
   "cell_type": "code",
   "execution_count": 1,
   "metadata": {},
   "outputs": [],
   "source": [
    "from haystack import Document\n",
    "import json\n",
    "import pandas as pd\n",
    "import os"
   ]
  },
  {
   "cell_type": "code",
   "execution_count": 2,
   "metadata": {},
   "outputs": [],
   "source": [
    "from os import environ\n",
    "import google.auth\n",
    "from google.oauth2 import service_account\n",
    "from google.auth.transport.requests import AuthorizedSession\n"
   ]
  },
  {
   "cell_type": "code",
   "execution_count": 3,
   "metadata": {},
   "outputs": [],
   "source": [
    "SERVICE_ACCOUNT_FILE = \"./creds.json\"\n"
   ]
  },
  {
   "cell_type": "code",
   "execution_count": null,
   "metadata": {},
   "outputs": [],
   "source": [
    "SEARCH = os.environ[\"SEARCH\"]"
   ]
  },
  {
   "cell_type": "code",
   "execution_count": 4,
   "metadata": {},
   "outputs": [],
   "source": [
    "def get_token():\n",
    "    credentials = service_account.IDTokenCredentials.from_service_account_file(\n",
    "        SERVICE_ACCOUNT_FILE, target_audience=SEARCH)\n",
    "    request = google.auth.transport.requests.Request()\n",
    "    credentials.refresh(request)\n",
    "    token = credentials.token\n",
    "\n",
    "    return token"
   ]
  },
  {
   "cell_type": "code",
   "execution_count": 5,
   "metadata": {},
   "outputs": [],
   "source": [
    "a = get_token()"
   ]
  },
  {
   "cell_type": "code",
   "execution_count": 6,
   "metadata": {},
   "outputs": [],
   "source": [
    "SEARCH = os.environ[\"SEARCH\"]"
   ]
  },
  {
   "cell_type": "code",
   "execution_count": 7,
   "metadata": {},
   "outputs": [],
   "source": [
    "hed = get_token()"
   ]
  },
  {
   "cell_type": "code",
   "execution_count": 62,
   "metadata": {},
   "outputs": [],
   "source": [
    "a = hed[\"Authorization\"]"
   ]
  },
  {
   "cell_type": "code",
   "execution_count": 18,
   "metadata": {},
   "outputs": [],
   "source": [
    "with open(\"docs_with_q_4o-mini.json\", \"rt\") as f_in:\n",
    "    ds_gpt = json.load(f_in)"
   ]
  },
  {
   "cell_type": "code",
   "execution_count": 8,
   "metadata": {},
   "outputs": [],
   "source": [
    "def prepare_docs(prepared_docs, docs):\n",
    "    for ds in docs:\n",
    "        prepared_docs.append(\n",
    "            Document(content=ds[\"content\"], meta={\"source\": ds[\"source\"], \"headline\": ds[\"headline\"], \"ids\": ds[\"id\"], \"length\":ds[\"length\"], \"question\": ds[\"question\"]})\n",
    "        )\n",
    "    return prepared_docs"
   ]
  },
  {
   "cell_type": "code",
   "execution_count": 9,
   "metadata": {},
   "outputs": [],
   "source": [
    "from haystack_integrations.document_stores.elasticsearch import ElasticsearchDocumentStore\n",
    "from haystack.components.embedders import SentenceTransformersTextEmbedder, SentenceTransformersDocumentEmbedder\n",
    "from haystack.components.writers import DocumentWriter\n",
    "from haystack.document_stores.types import DuplicatePolicy\n",
    "from haystack import Pipeline\n",
    "from haystack_integrations.components.retrievers.elasticsearch import ElasticsearchEmbeddingRetriever"
   ]
  },
  {
   "cell_type": "code",
   "execution_count": 346,
   "metadata": {},
   "outputs": [],
   "source": []
  },
  {
   "cell_type": "code",
   "execution_count": 10,
   "metadata": {},
   "outputs": [],
   "source": [
    "def prepare_document_store(model, docs, index_name):\n",
    "    document_store = ElasticsearchDocumentStore(hosts = SEARCH, embedding_similarity_function=\"cosine\", index=index_name,request_timeout=3000,    bearer_auth=a)\n",
    "    document_embedder = SentenceTransformersDocumentEmbedder(model=model,\n",
    "                                                         meta_fields_to_embed=[\"headline\", \"question\"])\n",
    "    document_writer = DocumentWriter(document_store=document_store, policy=DuplicatePolicy.OVERWRITE)\n",
    "    indexing = Pipeline()\n",
    "    indexing.add_component(instance=document_embedder, name=\"document_embedder\")\n",
    "    indexing.add_component(instance=document_writer, name=\"document_writer\")\n",
    "    indexing.connect(\"document_embedder.documents\", \"document_writer.documents\")\n",
    "    indexing.run({\"document_embedder\": {\"documents\": docs}}),\n",
    "    return document_store"
   ]
  },
  {
   "cell_type": "code",
   "execution_count": 11,
   "metadata": {},
   "outputs": [],
   "source": [
    "def prepare_retrieval_pipeline(model, document_store):\n",
    "    retrieval_pipeline = Pipeline()\n",
    "    retrieval_pipeline.add_component(\"text_embedder\", SentenceTransformersTextEmbedder(model=model, progress_bar=False))\n",
    "    retrieval_pipeline.add_component(\"retriever\", ElasticsearchEmbeddingRetriever(document_store=document_store, top_k=5))\n",
    "    retrieval_pipeline.connect(\"text_embedder\", \"retriever\")\n",
    "    return retrieval_pipeline"
   ]
  },
  {
   "cell_type": "code",
   "execution_count": 12,
   "metadata": {},
   "outputs": [],
   "source": [
    "prepared_docs = []"
   ]
  },
  {
   "cell_type": "code",
   "execution_count": 13,
   "metadata": {},
   "outputs": [],
   "source": [
    "docs = prepare_docs(prepared_docs, ds_gpt)"
   ]
  },
  {
   "cell_type": "code",
   "execution_count": 14,
   "metadata": {},
   "outputs": [],
   "source": [
    "import pandas as pd"
   ]
  },
  {
   "cell_type": "code",
   "execution_count": 15,
   "metadata": {},
   "outputs": [
    {
     "data": {
      "application/vnd.jupyter.widget-view+json": {
       "model_id": "8453433c073b4177abf441d64bdfb7d6",
       "version_major": 2,
       "version_minor": 0
      },
      "text/plain": [
       "Batches:   0%|          | 0/21 [00:00<?, ?it/s]"
      ]
     },
     "metadata": {},
     "output_type": "display_data"
    }
   ],
   "source": [
    "\n",
    "document_store = prepare_document_store(model=\"./transformers\", docs=docs, index_name=\"germany\")"
   ]
  },
  {
   "cell_type": "code",
   "execution_count": 32,
   "metadata": {},
   "outputs": [],
   "source": [
    "from elasticsearch import Elasticsearch, helpers\n"
   ]
  },
  {
   "cell_type": "code",
   "execution_count": null,
   "metadata": {},
   "outputs": [],
   "source": [
    "test = Elasticsearch()"
   ]
  },
  {
   "cell_type": "code",
   "execution_count": 101,
   "metadata": {},
   "outputs": [],
   "source": [
    "from haystack.components.builders import PromptBuilder\n",
    "from haystack.components.generators import OpenAIGenerator"
   ]
  },
  {
   "cell_type": "code",
   "execution_count": 15,
   "metadata": {},
   "outputs": [],
   "source": [
    "import os"
   ]
  },
  {
   "cell_type": "code",
   "execution_count": null,
   "metadata": {},
   "outputs": [],
   "source": [
    "from getpass import getpass\n",
    "\n",
    "os.environ[\"OPENAI_API_KEY\"]"
   ]
  },
  {
   "cell_type": "code",
   "execution_count": 189,
   "metadata": {},
   "outputs": [],
   "source": [
    "template = \"\"\"\n",
    "You're a FAQ database assistant. Answer the QUESTION based on the CONTEXT from the FAQ database.\n",
    "Use only the facts from the CONTEXT when answering the QUESTION.\n",
    "\n",
    "Context:\n",
    "{% for document in documents %}\n",
    "    {{ document.content }}\n",
    "{% endfor %}\n",
    "\n",
    "Question: {{question}}\n",
    "Answer:\n",
    "\"\"\"\n",
    "\n",
    "prompt_builder = PromptBuilder(template=template)\n",
    "\n",
    "generator = OpenAIGenerator(model=\"gpt-4o-mini\")"
   ]
  },
  {
   "cell_type": "code",
   "execution_count": 177,
   "metadata": {},
   "outputs": [],
   "source": [
    "from haystack.components.builders.answer_builder import AnswerBuilder"
   ]
  },
  {
   "cell_type": "code",
   "execution_count": 91,
   "metadata": {},
   "outputs": [],
   "source": [
    "prepared_docs = []"
   ]
  },
  {
   "cell_type": "code",
   "execution_count": 15,
   "metadata": {},
   "outputs": [],
   "source": [
    "docs = prepare_docs(prepared_docs, ds_gpt)"
   ]
  },
  {
   "cell_type": "code",
   "execution_count": 175,
   "metadata": {},
   "outputs": [],
   "source": [
    "rag_pipeline = None"
   ]
  },
  {
   "cell_type": "code",
   "execution_count": null,
   "metadata": {},
   "outputs": [],
   "source": []
  },
  {
   "cell_type": "code",
   "execution_count": 190,
   "metadata": {},
   "outputs": [
    {
     "data": {
      "text/plain": [
       "<haystack.core.pipeline.pipeline.Pipeline object at 0x7f7aa4628090>\n",
       "🚅 Components\n",
       "  - text_embedder: SentenceTransformersTextEmbedder\n",
       "  - retriever: ElasticsearchEmbeddingRetriever\n",
       "  - prompt_builder: PromptBuilder\n",
       "  - llm: OpenAIGenerator\n",
       "  - answer_builder: AnswerBuilder\n",
       "🛤️ Connections\n",
       "  - text_embedder.embedding -> retriever.query_embedding (List[float])\n",
       "  - retriever.documents -> prompt_builder.documents (List[Document])\n",
       "  - retriever.documents -> answer_builder.documents (List[Document])\n",
       "  - prompt_builder.prompt -> llm.prompt (str)\n",
       "  - llm.replies -> answer_builder.replies (List[str])\n",
       "  - llm.meta -> answer_builder.meta (List[Dict[str, Any]])"
      ]
     },
     "execution_count": 190,
     "metadata": {},
     "output_type": "execute_result"
    }
   ],
   "source": [
    "\n",
    "rag_pipeline = Pipeline()\n",
    "# Add components to your pipeline\n",
    "\n",
    "\n",
    "\n",
    "rag_pipeline.add_component(\"text_embedder\", SentenceTransformersTextEmbedder(model=\"sentence-transformers/multi-qa-distilbert-cos-v1\", progress_bar=False))\n",
    "rag_pipeline.add_component(\"retriever\", ElasticsearchEmbeddingRetriever(document_store=document_store, top_k=5))\n",
    "rag_pipeline.add_component(\"prompt_builder\", prompt_builder)\n",
    "rag_pipeline.add_component(\"llm\", generator)\n",
    "rag_pipeline.add_component(instance=AnswerBuilder(), name=\"answer_builder\")\n",
    "\n",
    "\n",
    "\n",
    "\n",
    "\n",
    "rag_pipeline.connect(\"text_embedder\", \"retriever\")\n",
    "rag_pipeline.connect(\"retriever\", \"prompt_builder.documents\")\n",
    "rag_pipeline.connect(\"prompt_builder\", \"llm\")\n",
    "rag_pipeline.connect(\"llm.replies\", \"answer_builder.replies\")\n",
    "rag_pipeline.connect(\"llm.meta\", \"answer_builder.meta\")\n",
    "rag_pipeline.connect(\"retriever\", \"answer_builder.documents\")"
   ]
  },
  {
   "cell_type": "code",
   "execution_count": 6,
   "metadata": {},
   "outputs": [],
   "source": [
    "import pandas as pd"
   ]
  },
  {
   "cell_type": "code",
   "execution_count": 7,
   "metadata": {},
   "outputs": [],
   "source": [
    "df_ground_truth = pd.read_csv(\"gp4o-mini-questions.csv\")\n",
    "ground_truth = df_ground_truth.to_dict(orient=\"records\")\n"
   ]
  },
  {
   "cell_type": "code",
   "execution_count": 12,
   "metadata": {},
   "outputs": [
    {
     "data": {
      "text/plain": [
       "{'question': 'What is the total length of the Autobahn network in Germany?',\n",
       " 'headline': 'How safe is the Autobahn?',\n",
       " 'content': '9d8370cf-a2c8-4c54-9f9c-476b9c09a933'}"
      ]
     },
     "execution_count": 12,
     "metadata": {},
     "output_type": "execute_result"
    }
   ],
   "source": [
    "ground_truth[0]"
   ]
  },
  {
   "cell_type": "code",
   "execution_count": 19,
   "metadata": {},
   "outputs": [
    {
     "data": {
      "text/plain": [
       "{'source': 'https://www.reddit.com/r/germany/wiki/autobahn_safety',\n",
       " 'content': 'The Autobahn is a [network of interstate highways in Germany](https://en.m.wikipedia.org/wiki/Autobahn#/media/File%3AAutobahnen_in_Deutschland.svg) with a total length of more than 8,000 miles. [65%](https://en.wikipedia.org/wiki/Autobahn#Speed_limits) of the Autobahn has no speed limit. How safe can that be?\\nVehicles traveled 147 billion miles on the Autobahn in 2015. 322 people died = 2.19 deaths per billion miles.\\nIn the US, vehicles travelled 757 billion miles on interstate highways. 3,837 people died = 5.07 deaths per billion miles.\\nThat means: If you drive on the interstate, your likelihood to die is 131% higher than for the same distance on the Autobahn.\\n*sources:*\\nStatistisches Bundesamt: [Unfallentwicklung auf deutschen Straßen 2015](https://www.destatis.de/DE/PresseService/Presse/Pressekonferenzen/2016/Unfallentwicklung_2015/Pressebroschuere_unfallentwicklung.pdf?__blob=publicationFile)\\nNational Highway Traffic Safety Administration: [Fatal Crashes by STATE and Road Function Class 2015](https://www-fars.nhtsa.dot.gov/)\\nU. S. Department of Transportation: [Traffic Volume Trends December 2015](https://www.fhwa.dot.gov/policyinformation/travel_monitoring/15dectvt/15dectvt.pdf)',\n",
       " 'headline': 'How safe is the Autobahn?',\n",
       " 'id': '9d8370cf-a2c8-4c54-9f9c-476b9c09a933',\n",
       " 'length': 1202,\n",
       " 'question': 'What are the safety statistics comparing the Autobahn to US interstate highways?'}"
      ]
     },
     "execution_count": 19,
     "metadata": {},
     "output_type": "execute_result"
    }
   ],
   "source": [
    "ds_gpt[0]"
   ]
  },
  {
   "cell_type": "code",
   "execution_count": 110,
   "metadata": {},
   "outputs": [],
   "source": [
    "aydi =ds_gpt[0][\"id\"]"
   ]
  },
  {
   "cell_type": "code",
   "execution_count": 23,
   "metadata": {},
   "outputs": [],
   "source": [
    "combined_list = list(map(lambda gt: {**gt, **next((ds for ds in ds_gpt if ds['id'] == gt['content']), {\n",
    "\n",
    "    \"test\" : gt[\"content\"]\n",
    "})}, ground_truth))"
   ]
  },
  {
   "cell_type": "code",
   "execution_count": 24,
   "metadata": {},
   "outputs": [],
   "source": [
    "combined_list = [\n",
    "    {**gt, **next((ds for ds in ds_gpt if ds['id'] == gt['content']), {})}\n",
    "    for gt in ground_truth\n",
    "]"
   ]
  },
  {
   "cell_type": "code",
   "execution_count": 25,
   "metadata": {},
   "outputs": [],
   "source": [
    "new_ds = [\n",
    "    {\n",
    "        'question': gt['question'],\n",
    "        'id': gt['content'],  \n",
    "        'content': ds['content']\n",
    "    }\n",
    "    for gt in ground_truth\n",
    "    for ds in ds_gpt\n",
    "    if gt['content'] == ds['id']  \n",
    "]\n"
   ]
  },
  {
   "cell_type": "code",
   "execution_count": 26,
   "metadata": {},
   "outputs": [
    {
     "name": "stdout",
     "output_type": "stream",
     "text": [
      "What is the total length of the Autobahn network in Germany?\n",
      "9d8370cf-a2c8-4c54-9f9c-476b9c09a933\n",
      "How many deaths occurred on the Autobahn per billion miles in 2015?\n",
      "9d8370cf-a2c8-4c54-9f9c-476b9c09a933\n",
      "What were the safety statistics for US interstate highways in comparison to the Autobahn?\n",
      "9d8370cf-a2c8-4c54-9f9c-476b9c09a933\n",
      "How many miles did vehicles travel on US interstate highways in 2015?\n",
      "9d8370cf-a2c8-4c54-9f9c-476b9c09a933\n",
      "What percentage of the Autobahn has no speed limit?\n",
      "9d8370cf-a2c8-4c54-9f9c-476b9c09a933\n",
      "What are the primary methods for obtaining German citizenship if you have ancestors from Germany?\n",
      "6ef3b8e4-f20b-4893-bf9e-f58f800afb82\n"
     ]
    }
   ],
   "source": [
    "for gt in ground_truth[:6]:\n",
    "    print(gt[\"question\"])\n",
    "    print(gt[\"content\"])"
   ]
  },
  {
   "cell_type": "code",
   "execution_count": 27,
   "metadata": {},
   "outputs": [
    {
     "data": {
      "text/plain": [
       "[{'question': 'What is the total length of the Autobahn network in Germany?',\n",
       "  'id': '9d8370cf-a2c8-4c54-9f9c-476b9c09a933',\n",
       "  'content': 'The Autobahn is a [network of interstate highways in Germany](https://en.m.wikipedia.org/wiki/Autobahn#/media/File%3AAutobahnen_in_Deutschland.svg) with a total length of more than 8,000 miles. [65%](https://en.wikipedia.org/wiki/Autobahn#Speed_limits) of the Autobahn has no speed limit. How safe can that be?\\nVehicles traveled 147 billion miles on the Autobahn in 2015. 322 people died = 2.19 deaths per billion miles.\\nIn the US, vehicles travelled 757 billion miles on interstate highways. 3,837 people died = 5.07 deaths per billion miles.\\nThat means: If you drive on the interstate, your likelihood to die is 131% higher than for the same distance on the Autobahn.\\n*sources:*\\nStatistisches Bundesamt: [Unfallentwicklung auf deutschen Straßen 2015](https://www.destatis.de/DE/PresseService/Presse/Pressekonferenzen/2016/Unfallentwicklung_2015/Pressebroschuere_unfallentwicklung.pdf?__blob=publicationFile)\\nNational Highway Traffic Safety Administration: [Fatal Crashes by STATE and Road Function Class 2015](https://www-fars.nhtsa.dot.gov/)\\nU. S. Department of Transportation: [Traffic Volume Trends December 2015](https://www.fhwa.dot.gov/policyinformation/travel_monitoring/15dectvt/15dectvt.pdf)'},\n",
       " {'question': 'How many deaths occurred on the Autobahn per billion miles in 2015?',\n",
       "  'id': '9d8370cf-a2c8-4c54-9f9c-476b9c09a933',\n",
       "  'content': 'The Autobahn is a [network of interstate highways in Germany](https://en.m.wikipedia.org/wiki/Autobahn#/media/File%3AAutobahnen_in_Deutschland.svg) with a total length of more than 8,000 miles. [65%](https://en.wikipedia.org/wiki/Autobahn#Speed_limits) of the Autobahn has no speed limit. How safe can that be?\\nVehicles traveled 147 billion miles on the Autobahn in 2015. 322 people died = 2.19 deaths per billion miles.\\nIn the US, vehicles travelled 757 billion miles on interstate highways. 3,837 people died = 5.07 deaths per billion miles.\\nThat means: If you drive on the interstate, your likelihood to die is 131% higher than for the same distance on the Autobahn.\\n*sources:*\\nStatistisches Bundesamt: [Unfallentwicklung auf deutschen Straßen 2015](https://www.destatis.de/DE/PresseService/Presse/Pressekonferenzen/2016/Unfallentwicklung_2015/Pressebroschuere_unfallentwicklung.pdf?__blob=publicationFile)\\nNational Highway Traffic Safety Administration: [Fatal Crashes by STATE and Road Function Class 2015](https://www-fars.nhtsa.dot.gov/)\\nU. S. Department of Transportation: [Traffic Volume Trends December 2015](https://www.fhwa.dot.gov/policyinformation/travel_monitoring/15dectvt/15dectvt.pdf)'},\n",
       " {'question': 'What were the safety statistics for US interstate highways in comparison to the Autobahn?',\n",
       "  'id': '9d8370cf-a2c8-4c54-9f9c-476b9c09a933',\n",
       "  'content': 'The Autobahn is a [network of interstate highways in Germany](https://en.m.wikipedia.org/wiki/Autobahn#/media/File%3AAutobahnen_in_Deutschland.svg) with a total length of more than 8,000 miles. [65%](https://en.wikipedia.org/wiki/Autobahn#Speed_limits) of the Autobahn has no speed limit. How safe can that be?\\nVehicles traveled 147 billion miles on the Autobahn in 2015. 322 people died = 2.19 deaths per billion miles.\\nIn the US, vehicles travelled 757 billion miles on interstate highways. 3,837 people died = 5.07 deaths per billion miles.\\nThat means: If you drive on the interstate, your likelihood to die is 131% higher than for the same distance on the Autobahn.\\n*sources:*\\nStatistisches Bundesamt: [Unfallentwicklung auf deutschen Straßen 2015](https://www.destatis.de/DE/PresseService/Presse/Pressekonferenzen/2016/Unfallentwicklung_2015/Pressebroschuere_unfallentwicklung.pdf?__blob=publicationFile)\\nNational Highway Traffic Safety Administration: [Fatal Crashes by STATE and Road Function Class 2015](https://www-fars.nhtsa.dot.gov/)\\nU. S. Department of Transportation: [Traffic Volume Trends December 2015](https://www.fhwa.dot.gov/policyinformation/travel_monitoring/15dectvt/15dectvt.pdf)'},\n",
       " {'question': 'How many miles did vehicles travel on US interstate highways in 2015?',\n",
       "  'id': '9d8370cf-a2c8-4c54-9f9c-476b9c09a933',\n",
       "  'content': 'The Autobahn is a [network of interstate highways in Germany](https://en.m.wikipedia.org/wiki/Autobahn#/media/File%3AAutobahnen_in_Deutschland.svg) with a total length of more than 8,000 miles. [65%](https://en.wikipedia.org/wiki/Autobahn#Speed_limits) of the Autobahn has no speed limit. How safe can that be?\\nVehicles traveled 147 billion miles on the Autobahn in 2015. 322 people died = 2.19 deaths per billion miles.\\nIn the US, vehicles travelled 757 billion miles on interstate highways. 3,837 people died = 5.07 deaths per billion miles.\\nThat means: If you drive on the interstate, your likelihood to die is 131% higher than for the same distance on the Autobahn.\\n*sources:*\\nStatistisches Bundesamt: [Unfallentwicklung auf deutschen Straßen 2015](https://www.destatis.de/DE/PresseService/Presse/Pressekonferenzen/2016/Unfallentwicklung_2015/Pressebroschuere_unfallentwicklung.pdf?__blob=publicationFile)\\nNational Highway Traffic Safety Administration: [Fatal Crashes by STATE and Road Function Class 2015](https://www-fars.nhtsa.dot.gov/)\\nU. S. Department of Transportation: [Traffic Volume Trends December 2015](https://www.fhwa.dot.gov/policyinformation/travel_monitoring/15dectvt/15dectvt.pdf)'},\n",
       " {'question': 'What percentage of the Autobahn has no speed limit?',\n",
       "  'id': '9d8370cf-a2c8-4c54-9f9c-476b9c09a933',\n",
       "  'content': 'The Autobahn is a [network of interstate highways in Germany](https://en.m.wikipedia.org/wiki/Autobahn#/media/File%3AAutobahnen_in_Deutschland.svg) with a total length of more than 8,000 miles. [65%](https://en.wikipedia.org/wiki/Autobahn#Speed_limits) of the Autobahn has no speed limit. How safe can that be?\\nVehicles traveled 147 billion miles on the Autobahn in 2015. 322 people died = 2.19 deaths per billion miles.\\nIn the US, vehicles travelled 757 billion miles on interstate highways. 3,837 people died = 5.07 deaths per billion miles.\\nThat means: If you drive on the interstate, your likelihood to die is 131% higher than for the same distance on the Autobahn.\\n*sources:*\\nStatistisches Bundesamt: [Unfallentwicklung auf deutschen Straßen 2015](https://www.destatis.de/DE/PresseService/Presse/Pressekonferenzen/2016/Unfallentwicklung_2015/Pressebroschuere_unfallentwicklung.pdf?__blob=publicationFile)\\nNational Highway Traffic Safety Administration: [Fatal Crashes by STATE and Road Function Class 2015](https://www-fars.nhtsa.dot.gov/)\\nU. S. Department of Transportation: [Traffic Volume Trends December 2015](https://www.fhwa.dot.gov/policyinformation/travel_monitoring/15dectvt/15dectvt.pdf)'},\n",
       " {'question': 'What are the primary methods for obtaining German citizenship if you have ancestors from Germany?',\n",
       "  'id': '6ef3b8e4-f20b-4893-bf9e-f58f800afb82',\n",
       "  'content': '*By u/staplehill*\\nGerman citizenship is [not based on where you are born](https://en.wikipedia.org/wiki/Jus_soli). You get German citizenship either through naturalization after living in Germany for a number of years, or you inherit it from a parent. German citizenship *can* be passed down through multiple generations who live abroad and have no idea that they are actually German citizens. But one can also lose German citizenship just as unknowingly, for example by voluntarily getting the citizenship of another country (1914-today), or due to sex-discriminatory laws that in the past often allowed only the father to pass on German citizenship to a child. If German citizenship got lost due to sex discrimination then there may now be a pathway to restore it - but often not if it was lost for other reasons.\\nDo you have a German ancestor and want to know if you can get a German passport? In order to find out, we have to go through all ancestors in the line between the original German immigrant and you to determine if German citizenship was passed down. Get ready for a bumpy journey back in time through arcane laws, outrageously outdated gender roles, and literal Nazi methods ...\\nSince the rules are complicated you can also post in r/GermanCitizenship and [include this information](https://www.reddit.com/r/Genealogy/comments/scvkwb/ger/hu8wavr/) so that we can tell you if you qualify for German citizenship.'}]"
      ]
     },
     "execution_count": 27,
     "metadata": {},
     "output_type": "execute_result"
    }
   ],
   "source": [
    "new_ds[:6]"
   ]
  },
  {
   "cell_type": "code",
   "execution_count": 10,
   "metadata": {},
   "outputs": [],
   "source": [
    "from tqdm.auto import tqdm"
   ]
  },
  {
   "cell_type": "code",
   "execution_count": null,
   "metadata": {},
   "outputs": [],
   "source": [
    "question = \"test\"\n",
    "\n",
    "response = rag_pipeline.run(\n",
    "{\n",
    "    \"text_embedder\": {\"text\" : question},\n",
    "    \"prompt_builder\": {\"question\": question},\n",
    "    \"answer_builder\": {\"query\": question},\n",
    "}\n",
    ")\n",
    "response[\"answer_builder\"][\"answers\"][0].data\n"
   ]
  },
  {
   "cell_type": "code",
   "execution_count": 178,
   "metadata": {},
   "outputs": [
    {
     "data": {
      "application/vnd.jupyter.widget-view+json": {
       "model_id": "e19adc37989f4c23b4c80dd944d6d11b",
       "version_major": 2,
       "version_minor": 0
      },
      "text/plain": [
       "  0%|          | 0/3305 [00:00<?, ?it/s]"
      ]
     },
     "metadata": {},
     "output_type": "display_data"
    }
   ],
   "source": [
    "contexts = []\n",
    "responses = []\n",
    "questions = []\n",
    "\n",
    "\n",
    "\n",
    "for run in tqdm(new_ds):\n",
    "    question = run[\"question\"]\n",
    "    context = run[\"content\"]\n",
    "\n",
    "    questions.append(question)\n",
    "    contexts.append([context])\n",
    "\n",
    "    response = rag_pipeline.run(\n",
    "    {\n",
    "        \"text_embedder\": {\"text\" : question},\n",
    "        \"prompt_builder\": {\"question\": question},\n",
    "        \"answer_builder\": {\"query\": question},\n",
    "    }\n",
    "    )\n",
    "    responses.append(response[\"answer_builder\"][\"answers\"][0].data)\n",
    "    "
   ]
  },
  {
   "cell_type": "code",
   "execution_count": 28,
   "metadata": {},
   "outputs": [],
   "source": [
    "from haystack import Pipeline\n",
    "from haystack_integrations.components.evaluators.ragas import RagasEvaluator, RagasMetric\n",
    "\n",
    "context_utilization_pipeline = Pipeline()\n",
    "evaluator = RagasEvaluator(metric=RagasMetric.CONTEXT_UTILIZATION)\n",
    "context_utilization_pipeline.add_component(\"evaluator\", evaluator)"
   ]
  },
  {
   "cell_type": "code",
   "execution_count": null,
   "metadata": {},
   "outputs": [],
   "source": [
    "test[\"contenxt\"] = contexts\n",
    "test[\"responses\"] = responses\n",
    "test[\"questions\"] = questions"
   ]
  },
  {
   "cell_type": "code",
   "execution_count": 186,
   "metadata": {},
   "outputs": [],
   "source": [
    "test.to_csv(\"./eval_docs.csv\", header=True, sep=\";\")"
   ]
  },
  {
   "cell_type": "code",
   "execution_count": 7,
   "metadata": {},
   "outputs": [],
   "source": [
    "test = pd.read_csv(\"./eval_docs.csv\", sep=\";\")"
   ]
  },
  {
   "cell_type": "code",
   "execution_count": 21,
   "metadata": {},
   "outputs": [],
   "source": [
    "t = test.sample(50)\n"
   ]
  },
  {
   "cell_type": "code",
   "execution_count": 22,
   "metadata": {},
   "outputs": [],
   "source": [
    "con = t[\"contenxt\"].to_list()"
   ]
  },
  {
   "cell_type": "code",
   "execution_count": 23,
   "metadata": {},
   "outputs": [],
   "source": [
    "contexts = []"
   ]
  },
  {
   "cell_type": "code",
   "execution_count": 24,
   "metadata": {},
   "outputs": [],
   "source": [
    "for c in con:\n",
    "    contexts.append(list(c))"
   ]
  },
  {
   "cell_type": "code",
   "execution_count": 25,
   "metadata": {},
   "outputs": [
    {
     "data": {
      "text/html": [
       "<div>\n",
       "<style scoped>\n",
       "    .dataframe tbody tr th:only-of-type {\n",
       "        vertical-align: middle;\n",
       "    }\n",
       "\n",
       "    .dataframe tbody tr th {\n",
       "        vertical-align: top;\n",
       "    }\n",
       "\n",
       "    .dataframe thead th {\n",
       "        text-align: right;\n",
       "    }\n",
       "</style>\n",
       "<table border=\"1\" class=\"dataframe\">\n",
       "  <thead>\n",
       "    <tr style=\"text-align: right;\">\n",
       "      <th></th>\n",
       "      <th>Unnamed: 0</th>\n",
       "      <th>contenxt</th>\n",
       "      <th>responses</th>\n",
       "      <th>questions</th>\n",
       "    </tr>\n",
       "  </thead>\n",
       "  <tbody>\n",
       "    <tr>\n",
       "      <th>1233</th>\n",
       "      <td>1233</td>\n",
       "      <td>['The Schengen tourist visa is intended for, w...</td>\n",
       "      <td>Yes, you may study for the duration of the Sch...</td>\n",
       "      <td>Is it possible to study while holding a Scheng...</td>\n",
       "    </tr>\n",
       "    <tr>\n",
       "      <th>2499</th>\n",
       "      <td>2499</td>\n",
       "      <td>['Additionally, irrespective of what contractu...</td>\n",
       "      <td>It is recommended to join a Mieterschutzverein...</td>\n",
       "      <td>Why is it recommended to join a Mieterschutzve...</td>\n",
       "    </tr>\n",
       "    <tr>\n",
       "      <th>455</th>\n",
       "      <td>455</td>\n",
       "      <td>['Related threads in /r/Germany subreddit.\\n* ...</td>\n",
       "      <td>Several factors contribute to the reluctance o...</td>\n",
       "      <td>What factors contribute to the reluctance of G...</td>\n",
       "    </tr>\n",
       "    <tr>\n",
       "      <th>2313</th>\n",
       "      <td>2313</td>\n",
       "      <td>['The big three network providers tend to offe...</td>\n",
       "      <td>When choosing between a big three network prov...</td>\n",
       "      <td>What factors should I consider when choosing b...</td>\n",
       "    </tr>\n",
       "    <tr>\n",
       "      <th>94</th>\n",
       "      <td>94</td>\n",
       "      <td>['* Shake hands with everyone you meet (assumi...</td>\n",
       "      <td>In towns, it is not necessary to greet strange...</td>\n",
       "      <td>Is it necessary to greet strangers in towns or...</td>\n",
       "    </tr>\n",
       "  </tbody>\n",
       "</table>\n",
       "</div>"
      ],
      "text/plain": [
       "      Unnamed: 0                                           contenxt  \\\n",
       "1233        1233  ['The Schengen tourist visa is intended for, w...   \n",
       "2499        2499  ['Additionally, irrespective of what contractu...   \n",
       "455          455  ['Related threads in /r/Germany subreddit.\\n* ...   \n",
       "2313        2313  ['The big three network providers tend to offe...   \n",
       "94            94  ['* Shake hands with everyone you meet (assumi...   \n",
       "\n",
       "                                              responses  \\\n",
       "1233  Yes, you may study for the duration of the Sch...   \n",
       "2499  It is recommended to join a Mieterschutzverein...   \n",
       "455   Several factors contribute to the reluctance o...   \n",
       "2313  When choosing between a big three network prov...   \n",
       "94    In towns, it is not necessary to greet strange...   \n",
       "\n",
       "                                              questions  \n",
       "1233  Is it possible to study while holding a Scheng...  \n",
       "2499  Why is it recommended to join a Mieterschutzve...  \n",
       "455   What factors contribute to the reluctance of G...  \n",
       "2313  What factors should I consider when choosing b...  \n",
       "94    Is it necessary to greet strangers in towns or...  "
      ]
     },
     "execution_count": 25,
     "metadata": {},
     "output_type": "execute_result"
    }
   ],
   "source": [
    "t.head()"
   ]
  },
  {
   "cell_type": "code",
   "execution_count": 26,
   "metadata": {},
   "outputs": [],
   "source": [
    "responses = t[\"responses\"].to_list()"
   ]
  },
  {
   "cell_type": "code",
   "execution_count": 27,
   "metadata": {},
   "outputs": [],
   "source": [
    "questions = t[\"questions\"].to_list()"
   ]
  },
  {
   "cell_type": "code",
   "execution_count": 28,
   "metadata": {},
   "outputs": [],
   "source": [
    "import random"
   ]
  },
  {
   "cell_type": "code",
   "execution_count": 29,
   "metadata": {},
   "outputs": [],
   "source": [
    "from haystack import Pipeline\n",
    "from haystack_integrations.components.evaluators.ragas import RagasEvaluator, RagasMetric\n",
    "\n",
    "answer_relevancy_pipeline = Pipeline()\n",
    "evaluator = RagasEvaluator(\n",
    "    metric=RagasMetric.ANSWER_RELEVANCY,\n",
    "    metric_params={\n",
    "        \"strictness\": 2\n",
    "    })\n",
    "answer_relevancy_pipeline.add_component(\"evaluator\", evaluator)\n"
   ]
  },
  {
   "cell_type": "code",
   "execution_count": 30,
   "metadata": {},
   "outputs": [
    {
     "data": {
      "application/vnd.jupyter.widget-view+json": {
       "model_id": "408133528e584b7aac457fd0e7a90094",
       "version_major": 2,
       "version_minor": 0
      },
      "text/plain": [
       "Evaluating:   0%|          | 0/50 [00:00<?, ?it/s]"
      ]
     },
     "metadata": {},
     "output_type": "display_data"
    }
   ],
   "source": [
    "evaluation_results = answer_relevancy_pipeline.run(\n",
    "    {\"evaluator\": {\"questions\": questions, \"contexts\":  contexts, \"responses\": responses}}\n",
    ")\n"
   ]
  },
  {
   "cell_type": "code",
   "execution_count": 31,
   "metadata": {},
   "outputs": [],
   "source": [
    "sums = []"
   ]
  },
  {
   "cell_type": "code",
   "execution_count": 32,
   "metadata": {},
   "outputs": [],
   "source": [
    "for score in (evaluation_results[\"evaluator\"][\"results\"]):\n",
    "    sums.append(score[0][\"score\"])\n"
   ]
  },
  {
   "cell_type": "code",
   "execution_count": 36,
   "metadata": {},
   "outputs": [
    {
     "data": {
      "text/html": [
       "<div>\n",
       "<style scoped>\n",
       "    .dataframe tbody tr th:only-of-type {\n",
       "        vertical-align: middle;\n",
       "    }\n",
       "\n",
       "    .dataframe tbody tr th {\n",
       "        vertical-align: top;\n",
       "    }\n",
       "\n",
       "    .dataframe thead th {\n",
       "        text-align: right;\n",
       "    }\n",
       "</style>\n",
       "<table border=\"1\" class=\"dataframe\">\n",
       "  <thead>\n",
       "    <tr style=\"text-align: right;\">\n",
       "      <th></th>\n",
       "      <th>0</th>\n",
       "    </tr>\n",
       "  </thead>\n",
       "  <tbody>\n",
       "    <tr>\n",
       "      <th>count</th>\n",
       "      <td>50.000000</td>\n",
       "    </tr>\n",
       "    <tr>\n",
       "      <th>mean</th>\n",
       "      <td>0.930749</td>\n",
       "    </tr>\n",
       "    <tr>\n",
       "      <th>std</th>\n",
       "      <td>0.194594</td>\n",
       "    </tr>\n",
       "    <tr>\n",
       "      <th>min</th>\n",
       "      <td>0.000000</td>\n",
       "    </tr>\n",
       "    <tr>\n",
       "      <th>25%</th>\n",
       "      <td>0.951582</td>\n",
       "    </tr>\n",
       "    <tr>\n",
       "      <th>50%</th>\n",
       "      <td>0.978830</td>\n",
       "    </tr>\n",
       "    <tr>\n",
       "      <th>75%</th>\n",
       "      <td>0.992876</td>\n",
       "    </tr>\n",
       "    <tr>\n",
       "      <th>max</th>\n",
       "      <td>1.000000</td>\n",
       "    </tr>\n",
       "  </tbody>\n",
       "</table>\n",
       "</div>"
      ],
      "text/plain": [
       "               0\n",
       "count  50.000000\n",
       "mean    0.930749\n",
       "std     0.194594\n",
       "min     0.000000\n",
       "25%     0.951582\n",
       "50%     0.978830\n",
       "75%     0.992876\n",
       "max     1.000000"
      ]
     },
     "execution_count": 36,
     "metadata": {},
     "output_type": "execute_result"
    }
   ],
   "source": [
    "pd.DataFrame(sums).describe()"
   ]
  },
  {
   "cell_type": "code",
   "execution_count": 21,
   "metadata": {},
   "outputs": [
    {
     "data": {
      "text/html": [
       "<div>\n",
       "<style scoped>\n",
       "    .dataframe tbody tr th:only-of-type {\n",
       "        vertical-align: middle;\n",
       "    }\n",
       "\n",
       "    .dataframe tbody tr th {\n",
       "        vertical-align: top;\n",
       "    }\n",
       "\n",
       "    .dataframe thead th {\n",
       "        text-align: right;\n",
       "    }\n",
       "</style>\n",
       "<table border=\"1\" class=\"dataframe\">\n",
       "  <thead>\n",
       "    <tr style=\"text-align: right;\">\n",
       "      <th></th>\n",
       "      <th>0</th>\n",
       "    </tr>\n",
       "  </thead>\n",
       "  <tbody>\n",
       "    <tr>\n",
       "      <th>count</th>\n",
       "      <td>50.000000</td>\n",
       "    </tr>\n",
       "    <tr>\n",
       "      <th>mean</th>\n",
       "      <td>0.934164</td>\n",
       "    </tr>\n",
       "    <tr>\n",
       "      <th>std</th>\n",
       "      <td>0.194037</td>\n",
       "    </tr>\n",
       "    <tr>\n",
       "      <th>min</th>\n",
       "      <td>0.000000</td>\n",
       "    </tr>\n",
       "    <tr>\n",
       "      <th>25%</th>\n",
       "      <td>0.955874</td>\n",
       "    </tr>\n",
       "    <tr>\n",
       "      <th>50%</th>\n",
       "      <td>0.975092</td>\n",
       "    </tr>\n",
       "    <tr>\n",
       "      <th>75%</th>\n",
       "      <td>0.996937</td>\n",
       "    </tr>\n",
       "    <tr>\n",
       "      <th>max</th>\n",
       "      <td>1.000000</td>\n",
       "    </tr>\n",
       "  </tbody>\n",
       "</table>\n",
       "</div>"
      ],
      "text/plain": [
       "               0\n",
       "count  50.000000\n",
       "mean    0.934164\n",
       "std     0.194037\n",
       "min     0.000000\n",
       "25%     0.955874\n",
       "50%     0.975092\n",
       "75%     0.996937\n",
       "max     1.000000"
      ]
     },
     "execution_count": 21,
     "metadata": {},
     "output_type": "execute_result"
    }
   ],
   "source": [
    "pd.DataFrame(sums).describe()"
   ]
  },
  {
   "cell_type": "code",
   "execution_count": 20,
   "metadata": {},
   "outputs": [
    {
     "data": {
      "text/html": [
       "<div>\n",
       "<style scoped>\n",
       "    .dataframe tbody tr th:only-of-type {\n",
       "        vertical-align: middle;\n",
       "    }\n",
       "\n",
       "    .dataframe tbody tr th {\n",
       "        vertical-align: top;\n",
       "    }\n",
       "\n",
       "    .dataframe thead th {\n",
       "        text-align: right;\n",
       "    }\n",
       "</style>\n",
       "<table border=\"1\" class=\"dataframe\">\n",
       "  <thead>\n",
       "    <tr style=\"text-align: right;\">\n",
       "      <th></th>\n",
       "      <th>0</th>\n",
       "    </tr>\n",
       "  </thead>\n",
       "  <tbody>\n",
       "    <tr>\n",
       "      <th>count</th>\n",
       "      <td>50.000000</td>\n",
       "    </tr>\n",
       "    <tr>\n",
       "      <th>mean</th>\n",
       "      <td>0.910511</td>\n",
       "    </tr>\n",
       "    <tr>\n",
       "      <th>std</th>\n",
       "      <td>0.234884</td>\n",
       "    </tr>\n",
       "    <tr>\n",
       "      <th>min</th>\n",
       "      <td>0.000000</td>\n",
       "    </tr>\n",
       "    <tr>\n",
       "      <th>25%</th>\n",
       "      <td>0.931460</td>\n",
       "    </tr>\n",
       "    <tr>\n",
       "      <th>50%</th>\n",
       "      <td>0.981040</td>\n",
       "    </tr>\n",
       "    <tr>\n",
       "      <th>75%</th>\n",
       "      <td>0.996109</td>\n",
       "    </tr>\n",
       "    <tr>\n",
       "      <th>max</th>\n",
       "      <td>1.000000</td>\n",
       "    </tr>\n",
       "  </tbody>\n",
       "</table>\n",
       "</div>"
      ],
      "text/plain": [
       "               0\n",
       "count  50.000000\n",
       "mean    0.910511\n",
       "std     0.234884\n",
       "min     0.000000\n",
       "25%     0.931460\n",
       "50%     0.981040\n",
       "75%     0.996109\n",
       "max     1.000000"
      ]
     },
     "execution_count": 20,
     "metadata": {},
     "output_type": "execute_result"
    }
   ],
   "source": [
    "pd.DataFrame(sums).describe()"
   ]
  },
  {
   "cell_type": "code",
   "execution_count": 33,
   "metadata": {},
   "outputs": [
    {
     "data": {
      "text/html": [
       "<div>\n",
       "<style scoped>\n",
       "    .dataframe tbody tr th:only-of-type {\n",
       "        vertical-align: middle;\n",
       "    }\n",
       "\n",
       "    .dataframe tbody tr th {\n",
       "        vertical-align: top;\n",
       "    }\n",
       "\n",
       "    .dataframe thead th {\n",
       "        text-align: right;\n",
       "    }\n",
       "</style>\n",
       "<table border=\"1\" class=\"dataframe\">\n",
       "  <thead>\n",
       "    <tr style=\"text-align: right;\">\n",
       "      <th></th>\n",
       "      <th>0</th>\n",
       "    </tr>\n",
       "  </thead>\n",
       "  <tbody>\n",
       "    <tr>\n",
       "      <th>count</th>\n",
       "      <td>50.000000</td>\n",
       "    </tr>\n",
       "    <tr>\n",
       "      <th>mean</th>\n",
       "      <td>0.883394</td>\n",
       "    </tr>\n",
       "    <tr>\n",
       "      <th>std</th>\n",
       "      <td>0.266121</td>\n",
       "    </tr>\n",
       "    <tr>\n",
       "      <th>min</th>\n",
       "      <td>0.000000</td>\n",
       "    </tr>\n",
       "    <tr>\n",
       "      <th>25%</th>\n",
       "      <td>0.928617</td>\n",
       "    </tr>\n",
       "    <tr>\n",
       "      <th>50%</th>\n",
       "      <td>0.971967</td>\n",
       "    </tr>\n",
       "    <tr>\n",
       "      <th>75%</th>\n",
       "      <td>0.989022</td>\n",
       "    </tr>\n",
       "    <tr>\n",
       "      <th>max</th>\n",
       "      <td>1.000000</td>\n",
       "    </tr>\n",
       "  </tbody>\n",
       "</table>\n",
       "</div>"
      ],
      "text/plain": [
       "               0\n",
       "count  50.000000\n",
       "mean    0.883394\n",
       "std     0.266121\n",
       "min     0.000000\n",
       "25%     0.928617\n",
       "50%     0.971967\n",
       "75%     0.989022\n",
       "max     1.000000"
      ]
     },
     "execution_count": 33,
     "metadata": {},
     "output_type": "execute_result"
    }
   ],
   "source": [
    "pd.DataFrame(sums).describe()"
   ]
  },
  {
   "cell_type": "code",
   "execution_count": null,
   "metadata": {},
   "outputs": [],
   "source": []
  }
 ],
 "metadata": {
  "kernelspec": {
   "display_name": "proje-m46awf8E",
   "language": "python",
   "name": "python3"
  },
  "language_info": {
   "codemirror_mode": {
    "name": "ipython",
    "version": 3
   },
   "file_extension": ".py",
   "mimetype": "text/x-python",
   "name": "python",
   "nbconvert_exporter": "python",
   "pygments_lexer": "ipython3",
   "version": "3.11.2"
  }
 },
 "nbformat": 4,
 "nbformat_minor": 2
}
