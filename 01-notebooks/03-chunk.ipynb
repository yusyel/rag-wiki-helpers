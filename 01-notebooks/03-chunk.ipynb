{
 "cells": [
  {
   "cell_type": "code",
   "execution_count": 14,
   "metadata": {},
   "outputs": [],
   "source": [
    "from openai import OpenAI\n",
    "import os\n",
    "import pandas as pd\n",
    "from tqdm.auto import tqdm\n",
    "import json\n",
    "import uuid"
   ]
  },
  {
   "cell_type": "code",
   "execution_count": 2,
   "metadata": {},
   "outputs": [],
   "source": [
    "client = OpenAI(api_key=os.environ[\"IA\"])"
   ]
  },
  {
   "cell_type": "code",
   "execution_count": 3,
   "metadata": {},
   "outputs": [],
   "source": [
    "test = pd.read_json(\"./documents.json\").to_dict(orient=\"records\")"
   ]
  },
  {
   "cell_type": "code",
   "execution_count": 4,
   "metadata": {},
   "outputs": [],
   "source": [
    "chunk_list = []\n",
    "ids = []"
   ]
  },
  {
   "cell_type": "code",
   "execution_count": 5,
   "metadata": {},
   "outputs": [],
   "source": [
    "for i in test:\n",
    "    if i[\"length\"] > 1700:\n",
    "        chunk_list.append({\"source\": i[\"source\"], \"content\": i[\"content\"], \"headline\":i[\"headline\"], \"length\":i[\"length\"]})\n",
    "        ids.append(i[\"id\"])"
   ]
  },
  {
   "cell_type": "code",
   "execution_count": 6,
   "metadata": {},
   "outputs": [
    {
     "data": {
      "text/plain": [
       "(105, '8c1c6484-7c57-4e2d-93e6-84c5af76e049')"
      ]
     },
     "execution_count": 6,
     "metadata": {},
     "output_type": "execute_result"
    }
   ],
   "source": [
    "len(ids), ids[0]"
   ]
  },
  {
   "cell_type": "code",
   "execution_count": 7,
   "metadata": {},
   "outputs": [],
   "source": [
    "filtered_list = [record for record in test if record['id'] not in ids]"
   ]
  },
  {
   "cell_type": "code",
   "execution_count": 8,
   "metadata": {},
   "outputs": [
    {
     "data": {
      "text/plain": [
       "True"
      ]
     },
     "execution_count": 8,
     "metadata": {},
     "output_type": "execute_result"
    }
   ],
   "source": [
    "len(filtered_list) + len(chunk_list) == len(test)"
   ]
  },
  {
   "cell_type": "code",
   "execution_count": 11,
   "metadata": {},
   "outputs": [],
   "source": [
    "def fetch_knowledge_chunks(Chunk):\n",
    "    content = Chunk[\"content\"]\n",
    "    source = Chunk[\"source\"]\n",
    "    headline = Chunk[\"headline\"]\n",
    "    prompt = f\"\"\"Task: Extract Knowledge Chunks\n",
    "    Please extract knowledge chunks from the following content.\n",
    "    Return the extracted knowledge chunks as a JSON object or array (even if there is a 1 chunk), \n",
    "    ensuring that each chunk approximately 1000 character (not strict rule).\n",
    "    If text is approximately 2000 character extract more than 1 chunk.\n",
    "    Text is includes markdown format. keep link, list, etc. Use the format: \n",
    "    {{\"chunks\": \"chunk\"}}\n",
    "    \n",
    "    \n",
    "    Text:\n",
    "\n",
    "    {content}\n",
    "    \"\"\"\n",
    "\n",
    "    completion = client.chat.completions.create(\n",
    "        model=\"gpt-4o-mini\",\n",
    "        response_format={\"type\": \"json_object\"},\n",
    "        messages=[\n",
    "            {\n",
    "                \"role\": \"system\",\n",
    "                \"content\": \"You are an assistant that takes apart a piece of text into semantic chunks to be used in a RAG system.\",\n",
    "            },\n",
    "            {\"role\": \"user\", \"content\": prompt},\n",
    "        ],\n",
    "        stream=False,\n",
    "    )\n",
    "\n",
    "    res = json.loads(completion.choices[0].message.content)\n",
    "\n",
    "    return res, source, headline"
   ]
  },
  {
   "cell_type": "code",
   "execution_count": 12,
   "metadata": {},
   "outputs": [
    {
     "data": {
      "text/plain": [
       "1745"
      ]
     },
     "execution_count": 12,
     "metadata": {},
     "output_type": "execute_result"
    }
   ],
   "source": [
    "len(chunk_list[0][\"content\"])"
   ]
  },
  {
   "cell_type": "code",
   "execution_count": 13,
   "metadata": {},
   "outputs": [],
   "source": [
    "chundked_list=[]"
   ]
  },
  {
   "cell_type": "code",
   "execution_count": 15,
   "metadata": {},
   "outputs": [
    {
     "data": {
      "application/vnd.jupyter.widget-view+json": {
       "model_id": "4067477550fa4aaaa22b62e43aa91561",
       "version_major": 2,
       "version_minor": 0
      },
      "text/plain": [
       "  0%|          | 0/105 [00:00<?, ?it/s]"
      ]
     },
     "metadata": {},
     "output_type": "display_data"
    }
   ],
   "source": [
    "for chunk in tqdm(chunk_list):\n",
    "    res, source, headline = fetch_knowledge_chunks(chunk)\n",
    "    for r in res[\"chunks\"]:\n",
    "        if len(r)==1:\n",
    "            r = r[\"chunk\"] or r[\"text\"]\n",
    "            chundked_list.append({\"source\":source, \"headline\":headline, \"content\":r, \"length\": len(r), \"id\": str(uuid.uuid4())})\n",
    "        else:\n",
    "            chundked_list.append({\"source\":source, \"headline\":headline, \"content\":r, \"length\": len(r), \"id\": str(uuid.uuid4())})"
   ]
  },
  {
   "cell_type": "code",
   "execution_count": 16,
   "metadata": {},
   "outputs": [
    {
     "data": {
      "text/plain": [
       "344"
      ]
     },
     "execution_count": 16,
     "metadata": {},
     "output_type": "execute_result"
    }
   ],
   "source": [
    "len(chundked_list)"
   ]
  },
  {
   "cell_type": "code",
   "execution_count": 18,
   "metadata": {},
   "outputs": [
    {
     "data": {
      "text/plain": [
       "{'source': 'https://www.reddit.com/r/germany/wiki/citizenship',\n",
       " 'content': '*By u/staplehill*\\nGerman citizenship is [not based on where you are born](https://en.wikipedia.org/wiki/Jus_soli). You get German citizenship either through naturalization after living in Germany for a number of years, or you inherit it from a parent. German citizenship *can* be passed down through multiple generations who live abroad and have no idea that they are actually German citizens. But one can also lose German citizenship just as unknowingly, for example by voluntarily getting the citizenship of another country (1914-today), or due to sex-discriminatory laws that in the past often allowed only the father to pass on German citizenship to a child. If German citizenship got lost due to sex discrimination then there may now be a pathway to restore it - but often not if it was lost for other reasons.\\nDo you have a German ancestor and want to know if you can get a German passport? In order to find out, we have to go through all ancestors in the line between the original German immigrant and you to determine if German citizenship was passed down. Get ready for a bumpy journey back in time through arcane laws, outrageously outdated gender roles, and literal Nazi methods ...\\nSince the rules are complicated you can also post in r/GermanCitizenship and [include this information](https://www.reddit.com/r/Genealogy/comments/scvkwb/ger/hu8wavr/) so that we can tell you if you qualify for German citizenship.',\n",
       " 'headline': 'German citizenship by descent',\n",
       " 'id': '6ef3b8e4-f20b-4893-bf9e-f58f800afb82',\n",
       " 'length': 1425}"
      ]
     },
     "execution_count": 18,
     "metadata": {},
     "output_type": "execute_result"
    }
   ],
   "source": [
    "filtered_list[1]"
   ]
  },
  {
   "cell_type": "code",
   "execution_count": 19,
   "metadata": {},
   "outputs": [
    {
     "data": {
      "text/plain": [
       "{'source': 'https://www.reddit.com/r/germany/wiki/american-dream',\n",
       " 'headline': 'The American Dream',\n",
       " 'content': 'This means: The American Dream is doing fine - in Europe and Canada. Regarding daughters, they have found that their income is in all countries determined by the factor if she marries someone, who she marries if she has children and how many. The jury is still out about how to evaluate this result. Some people argue that it is not her own achievement if her husband makes a lot of money and that it is also not an achievement to not have children. Others argue that it is an achievement to marry a man with a high earning potential and use contraceptives correctly.',\n",
       " 'length': 567,\n",
       " 'id': 'd4bee544-64bc-41d6-ab52-ca3ac48cfc8c'}"
      ]
     },
     "execution_count": 19,
     "metadata": {},
     "output_type": "execute_result"
    }
   ],
   "source": [
    "chundked_list[1]"
   ]
  },
  {
   "cell_type": "code",
   "execution_count": 20,
   "metadata": {},
   "outputs": [
    {
     "data": {
      "text/plain": [
       "614"
      ]
     },
     "execution_count": 20,
     "metadata": {},
     "output_type": "execute_result"
    }
   ],
   "source": [
    "doc_chunked = filtered_list + chundked_list\n",
    "len(doc_chunked)"
   ]
  },
  {
   "cell_type": "code",
   "execution_count": 21,
   "metadata": {},
   "outputs": [],
   "source": [
    "with open('doc_chunked.json', 'wt') as f_out:\n",
    "    json.dump(doc_chunked, f_out, indent=2)"
   ]
  },
  {
   "cell_type": "code",
   "execution_count": null,
   "metadata": {},
   "outputs": [],
   "source": []
  }
 ],
 "metadata": {
  "kernelspec": {
   "display_name": "proje-m46awf8E",
   "language": "python",
   "name": "python3"
  },
  "language_info": {
   "codemirror_mode": {
    "name": "ipython",
    "version": 3
   },
   "file_extension": ".py",
   "mimetype": "text/x-python",
   "name": "python",
   "nbconvert_exporter": "python",
   "pygments_lexer": "ipython3",
   "version": "3.11.2"
  }
 },
 "nbformat": 4,
 "nbformat_minor": 2
}
