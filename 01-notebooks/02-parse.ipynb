{
 "cells": [
  {
   "cell_type": "code",
   "execution_count": 1,
   "metadata": {},
   "outputs": [],
   "source": [
    "import uuid\n",
    "import os\n",
    "from IPython.display import display, clear_output, Markdown\n",
    "from time import sleep\n",
    "import json"
   ]
  },
  {
   "cell_type": "code",
   "execution_count": 24,
   "metadata": {},
   "outputs": [],
   "source": [
    "mds = os.listdir(\"./wikis\")"
   ]
  },
  {
   "cell_type": "code",
   "execution_count": 2,
   "metadata": {},
   "outputs": [],
   "source": [
    "def read_file(md):\n",
    "    with open(f\"wikis/{md}\", \"r\", encoding=\"utf-8\") as file:\n",
    "        doc = file.read()\n",
    "    return doc"
   ]
  },
  {
   "cell_type": "code",
   "execution_count": 26,
   "metadata": {},
   "outputs": [],
   "source": [
    "def parse_document(doc):\n",
    "    lines = doc.strip().split('\\n')\n",
    "    docs = []\n",
    "    source = lines[0].strip()\n",
    "    if lines:\n",
    "        # The first line is the source\n",
    "        current_content = []\n",
    "        current_headline = ''\n",
    "\n",
    "        for line in lines[1:]:\n",
    "            stripped_line = line.strip()\n",
    "            if not stripped_line:\n",
    "                continue\n",
    "            if stripped_line.startswith(\"#\"):\n",
    "                if current_content:\n",
    "\n",
    "                    docs.append(\n",
    "                        {\n",
    "                        \"source\": source,\n",
    "                        \"content\": \"\\n\".join(current_content),\n",
    "                        \"headline\": current_headline,\n",
    "                        \"length\": len(\"\\n\".join(current_content)),\n",
    "                        \"id\": str(uuid.uuid4())\n",
    "\n",
    "                        }\n",
    "                    )\n",
    "\n",
    "                    current_content = []\n",
    "                current_headline = stripped_line.lstrip(\"#\").strip()\n",
    "            else:\n",
    "                current_content.append(stripped_line)\n",
    "\n",
    "        if current_content:\n",
    "\n",
    "\n",
    "            docs.append(\n",
    "                {\n",
    "                \"source\": source,\n",
    "                \"content\": \"\\n\".join(current_content),\n",
    "                \"headline\": current_headline,\n",
    "                \"length\": len(\"\\n\".join(current_content)),\n",
    "                \"id\": str(uuid.uuid4())\n",
    "                }\n",
    "            )\n",
    "\n",
    "    return docs"
   ]
  },
  {
   "cell_type": "code",
   "execution_count": 27,
   "metadata": {},
   "outputs": [],
   "source": [
    "md = read_file(mds[1])\n",
    "test = parse_document(md)"
   ]
  },
  {
   "cell_type": "code",
   "execution_count": 28,
   "metadata": {},
   "outputs": [],
   "source": [
    "documents = []\n",
    "\n",
    "for md in mds:\n",
    "    doc = read_file(md)\n",
    "    docs = parse_document(doc)\n",
    "    for doc in docs:\n",
    "        documents.append(\n",
    "            {\n",
    "                \"source\": doc[\"source\"],\n",
    "                \"content\": doc[\"content\"],\n",
    "                \"headline\": doc[\"headline\"],\n",
    "                \"id\": doc[\"id\"],\n",
    "                \"length\": doc[\"length\"],\n",
    "            }\n",
    "        )"
   ]
  },
  {
   "cell_type": "code",
   "execution_count": 29,
   "metadata": {},
   "outputs": [
    {
     "data": {
      "text/plain": [
       "'The Autobahn is a [network of interstate highways in Germany](https://en.m.wikipedia.org/wiki/Autobahn#/media/File%3AAutobahnen_in_Deutschland.svg) with a total length of more than 8,000 miles. [65%](https://en.wikipedia.org/wiki/Autobahn#Speed_limits) of the Autobahn has no speed limit. How safe can that be?\\nVehicles traveled 147 billion miles on the Autobahn in 2015. 322 people died = 2.19 deaths per billion miles.\\nIn the US, vehicles travelled 757 billion miles on interstate highways. 3,837 people died = 5.07 deaths per billion miles.\\nThat means: If you drive on the interstate, your likelihood to die is 131% higher than for the same distance on the Autobahn.\\n*sources:*\\nStatistisches Bundesamt: [Unfallentwicklung auf deutschen Straßen 2015](https://www.destatis.de/DE/PresseService/Presse/Pressekonferenzen/2016/Unfallentwicklung_2015/Pressebroschuere_unfallentwicklung.pdf?__blob=publicationFile)\\nNational Highway Traffic Safety Administration: [Fatal Crashes by STATE and Road Function Class 2015](https://www-fars.nhtsa.dot.gov/)\\nU. S. Department of Transportation: [Traffic Volume Trends December 2015](https://www.fhwa.dot.gov/policyinformation/travel_monitoring/15dectvt/15dectvt.pdf)'"
      ]
     },
     "execution_count": 29,
     "metadata": {},
     "output_type": "execute_result"
    }
   ],
   "source": [
    "documents[1][\"content\"]"
   ]
  },
  {
   "cell_type": "code",
   "execution_count": 32,
   "metadata": {},
   "outputs": [],
   "source": [
    "for doc in documents:\n",
    "    if doc[\"content\"] is None:\n",
    "        print(doc[\"id\"])\n",
    "    elif doc[\"headline\"] is None:\n",
    "        print(doc[\"id\"])\n",
    "    elif doc[\"length\"] is None:\n",
    "        print(doc[\"id\"])\n",
    "    elif doc[\"source\"] is None:\n",
    "        print(doc[\"id\"])\n",
    "    else:\n",
    "        pass\n"
   ]
  },
  {
   "cell_type": "code",
   "execution_count": 31,
   "metadata": {},
   "outputs": [
    {
     "data": {
      "text/markdown": [
       "## Cards"
      ],
      "text/plain": [
       "<IPython.core.display.Markdown object>"
      ]
     },
     "metadata": {},
     "output_type": "display_data"
    },
    {
     "data": {
      "text/markdown": [
       "Your bank account will come with at least one bank card, and you can usually have more. The following card types are common in Germany:\n",
       "* Debit cards. Any amount paid with this card is immediately debited from the associated bank account.\n",
       "* Charge cards. Any amount paid with this card is automatically debited from the associated bank account at the end of the month.\n",
       "* Prepaid credit cards. The owner transfers money onto the credit card's account, which is then debited when the card is used to pay for something.\n",
       "* Classical credit cards (also called \"rolling credit cards\"). Any amount paid with this card is tracked as debt, and any debt which isn't repaid by the end of the month (most cards require a minimum monthly payment) accrues interest.\n",
       "The cards you will typically have are:\n",
       "* A [Girocard](https://en.wikipedia.org/wiki/Girocard) debit card (also called an \"EC card\"), which is your main card for cashless payments. This card is almost always free. Note that N26 is the only major bank which doesn't issue a Girocard - instead, they give you a Maestro debit card, which is somewhat useful, but not as universally accepted as a Girocard.\n",
       "* A credit card, which you would commonly use for online shopping and payments outside the Eurozone. This card often (but not always) has an annual fee. Most banks will offer you a charge card; classical credit cards exist, but are comparatively rare. Both of these cards are generally only given to people with a good Schufa score (credit rating); for other people, prepaid credit cards are an option. If you don't necessarily want to use your bank's credit card, you can use a comparison shopping site like [Cardscout](https://www.cardscout.de/) to compare offers - however, for credit cards without a monthly fee, make sure you understand the fine print to avoid paying unexpected fees.\n",
       "Many cards will also have options for limited (limited to 25 €) contactless payment, and many banks let you connect your cards to smartphone payment systems like Apple Pay or Google Pay.\n",
       "Credit cards with cashback or other benefits are fairly uncommon in Germany."
      ],
      "text/plain": [
       "<IPython.core.display.Markdown object>"
      ]
     },
     "metadata": {},
     "output_type": "display_data"
    },
    {
     "data": {
      "text/markdown": [
       "14aad13d-3ff3-4efe-a6b3-1a614052ce5b"
      ],
      "text/plain": [
       "<IPython.core.display.Markdown object>"
      ]
     },
     "metadata": {},
     "output_type": "display_data"
    },
    {
     "ename": "KeyboardInterrupt",
     "evalue": "",
     "output_type": "error",
     "traceback": [
      "\u001b[0;31m---------------------------------------------------------------------------\u001b[0m",
      "\u001b[0;31mKeyboardInterrupt\u001b[0m                         Traceback (most recent call last)",
      "Cell \u001b[0;32mIn[31], line 5\u001b[0m\n\u001b[1;32m      3\u001b[0m display(Markdown(\u001b[38;5;124mf\u001b[39m\u001b[38;5;124m\"\u001b[39m\u001b[38;5;132;01m{\u001b[39;00mdoc[\u001b[38;5;124m'\u001b[39m\u001b[38;5;124mcontent\u001b[39m\u001b[38;5;124m'\u001b[39m]\u001b[38;5;132;01m}\u001b[39;00m\u001b[38;5;124m\"\u001b[39m))\n\u001b[1;32m      4\u001b[0m display(Markdown(\u001b[38;5;124mf\u001b[39m\u001b[38;5;124m\"\u001b[39m\u001b[38;5;132;01m{\u001b[39;00mdoc[\u001b[38;5;124m'\u001b[39m\u001b[38;5;124mid\u001b[39m\u001b[38;5;124m'\u001b[39m]\u001b[38;5;132;01m}\u001b[39;00m\u001b[38;5;124m\"\u001b[39m))\n\u001b[0;32m----> 5\u001b[0m sleep(\u001b[38;5;241m1\u001b[39m)\n\u001b[1;32m      6\u001b[0m clear_output(wait\u001b[38;5;241m=\u001b[39m\u001b[38;5;28;01mTrue\u001b[39;00m)\n",
      "\u001b[0;31mKeyboardInterrupt\u001b[0m: "
     ]
    }
   ],
   "source": [
    "for doc in documents:\n",
    "    display(Markdown(f\"## {doc['headline']}\"))\n",
    "    display(Markdown(f\"{doc['content']}\"))\n",
    "    display(Markdown(f\"{doc['id']}\"))\n",
    "    sleep(1)\n",
    "    clear_output(wait=True)"
   ]
  },
  {
   "cell_type": "code",
   "execution_count": 34,
   "metadata": {},
   "outputs": [],
   "source": [
    "with open('documents.json', 'wt') as f_out:\n",
    "    json.dump(documents, f_out, indent=2)"
   ]
  },
  {
   "cell_type": "code",
   "execution_count": 9,
   "metadata": {},
   "outputs": [],
   "source": [
    "def parse_document(doc):\n",
    "    lines = doc.strip().split('\\n')\n",
    "    docs = []\n",
    "    if lines:\n",
    "        current_headline = ''\n",
    "        current_question = ''\n",
    "        current_answer = ''\n",
    "        inside_question = False\n",
    "        inside_answer = False\n",
    "\n",
    "        for line in lines[1:]:\n",
    "            stripped_line = line.strip()\n",
    "            if not stripped_line:\n",
    "                # Skip empty lines\n",
    "                continue\n",
    "\n",
    "            if stripped_line.startswith(\"**Q\"):\n",
    "                # If we were inside an answer, save it before starting a new question\n",
    "                if inside_answer:\n",
    "                    docs.append({\n",
    "                        \"headline\": current_headline,\n",
    "                        \"question\": current_question.lstrip(\": \").strip(),\n",
    "                        \"content\": current_answer.lstrip(\":** \").strip(),\n",
    "                        \"length\": len(\"\\n\".join(current_answer)),\n",
    "                        \"source\": \"https://www.reddit.com/r/germany/wiki/faq\",\n",
    "                        \"id\": str(uuid.uuid4())\n",
    "                    })\n",
    "                    current_answer = ''\n",
    "                # Start collecting the question\n",
    "                current_question = stripped_line[3:].rstrip(\"**\").strip()  # Remove **Q and trailing **\n",
    "                inside_question = True\n",
    "                inside_answer = False\n",
    "\n",
    "            elif stripped_line.startswith(\"**A\"):\n",
    "                # Finish the question and start collecting the answer\n",
    "                inside_question = False\n",
    "                inside_answer = True\n",
    "                current_answer = stripped_line[3:].rstrip(\"**\").strip()  # Remove **Q and trailing **\n",
    "\n",
    "            elif stripped_line.startswith(\"#\"):\n",
    "                # If we were inside an answer, save it before starting a new headline\n",
    "                if inside_answer or current_question:\n",
    "                    docs.append({\n",
    "                        \"headline\": current_headline,\n",
    "                        \"question\": current_question.lstrip(\": \").strip(),\n",
    "                        \"content\": current_answer.lstrip(\":** \").strip(),\n",
    "                        \"length\": len(\"\\n\".join(current_answer)),\n",
    "                        \"source\": \"https://www.reddit.com/r/germany/wiki/faq\",\n",
    "                        \"id\": str(uuid.uuid4())\n",
    "                    })\n",
    "                    current_question = ''\n",
    "                    current_answer = ''\n",
    "                    inside_question = False\n",
    "                    inside_answer = False\n",
    "\n",
    "                # New headline starts\n",
    "                current_headline = stripped_line.lstrip(\"#\").strip().rstrip(\"**\").strip()  # Remove **Q and trailing **\n",
    "                \n",
    "            else:\n",
    "                # Accumulate content based on current state\n",
    "                if inside_question:\n",
    "                    current_question += \"\\n\" + stripped_line\n",
    "                elif inside_answer:\n",
    "                    current_answer += \"\\n\" + stripped_line\n",
    "\n",
    "        # Add any remaining content at the end of the document\n",
    "        if inside_answer or current_question:\n",
    "\n",
    "            docs.append({\n",
    "                \"headline\": current_headline,\n",
    "                \"question\": current_question.lstrip(\": \").strip(),\n",
    "                \"content\": current_answer.lstrip(\":** \").strip(),\n",
    "                \"length\": len(\"\\n\".join(current_answer)),\n",
    "                \"source\": \"https://www.reddit.com/r/germany/wiki/faq\",\n",
    "                \"id\": str(uuid.uuid4())\n",
    "\n",
    "            })\n",
    "\n",
    "    return docs"
   ]
  },
  {
   "cell_type": "code",
   "execution_count": 10,
   "metadata": {},
   "outputs": [],
   "source": [
    "docs = read_file(\"faq.md\")"
   ]
  },
  {
   "cell_type": "code",
   "execution_count": 11,
   "metadata": {},
   "outputs": [],
   "source": [
    "doc = parse_document(docs)"
   ]
  },
  {
   "cell_type": "code",
   "execution_count": 12,
   "metadata": {},
   "outputs": [
    {
     "name": "stdout",
     "output_type": "stream",
     "text": [
      "[{'headline': 'Travelling', 'question': 'What kind of clothing should I bring?', 'content': 'Germany has temperatures ranging from ~-15°C to ~34°C (5°F-93°F). Both of these are extremes that occur only during a few weeks in the year. Usually having a warm jacket during the winter, and a wind jacket or raincoat during the rest of the year should be fine. In the summer and spring, bring both long and short clothing, in autumn and winter, bring long clothing. What you should not bring are baseball caps. They look just weird and nobody really wears them. There is snow in the winter, and a lot of rain through the year.', 'length': 1063, 'source': 'https://www.reddit.com/r/germany/wiki/faq', 'id': '668dc206-4248-4554-bddb-238ee9eaa0df'}, {'headline': 'Travelling', 'question': 'Is it possible to hitchhike through Germany?', 'content': 'While hitchhiking isn\\'t that common any more, it should still be possible to do it. Hitchhike from Autobahnrastplatz (motorway station) to Autobahnrastplatz, and you should be fine.\\nIf you\\'re looking for a very cheap way to travel, see below for \"what\\'s the cheapest way to travel?\".', 'length': 573, 'source': 'https://www.reddit.com/r/germany/wiki/faq', 'id': '50c79ada-1377-452b-b59d-c564872a33a3'}, {'headline': 'Travelling', 'question': 'It is June and I just decided to visit the Oktoberfest. Where to find a place to stay?', 'content': \"You've started planning way too late. By now, all rooms at hotels will be booked. Your best hope is to book a room in the surrounding cities. Ingolstadt, Dachau, and such. Any place with a train station works.\", 'length': 425, 'source': 'https://www.reddit.com/r/germany/wiki/faq', 'id': '15b6e24e-cd5a-42a0-8732-b6b27f93595c'}, {'headline': 'Travelling', 'question': 'Is the Oktoberfest actually worth it?', 'content': 'It is a tourist trap and super expensive. If you want a more authentic German experience, visit a local Kirmes/Kirchweih/Volksfest anywhere else in Bavaria.', 'length': 319, 'source': 'https://www.reddit.com/r/germany/wiki/faq', 'id': '36dc3961-6b6f-4b54-9840-abb8ec8f2b14'}, {'headline': 'Travelling', 'question': 'I am Arab / dark-skinned / etc. and about to visit Germany. Should I be worried?', 'content': \"There's not really a reason to worry. Germany is still a relatively safe place to live, and cases of violence against foreigners are very isolated. Especially Western Germany and large cities have large immigrant populations, many of them being Turks. That being said, you shouldn't encounter any problems, even if you or your companions wear a hijab or similar clothing. Mind, however, that clothing that requires one to cover one's face with a veil is often seen as a sign of oppression, and people might not like seeing it. You might also experience milder types of discrimination while looking for a job, looking for an apartment, trying to get into clubs etc.\", 'length': 1335, 'source': 'https://www.reddit.com/r/germany/wiki/faq', 'id': 'f5b2423b-7b27-4e75-8194-310d48f45342'}, {'headline': 'Travelling', 'question': \"What food should I totally eat while I'm there?\", 'content': 'There is [this nice list on Wikipedia](https://en.wikipedia.org/wiki/List_of_German_dishes) which covers pretty much all local dishes - restaurants will serve those, after all. Common answers include\\n- Schweinebraten mit Klößen\\n- [Döner Kebab](https://en.wikipedia.org/wiki/Doner_kebab#Germany) (kebab)\\n- [Currywurst](https://en.wikipedia.org/wiki/Currywurst)\\n- [Bratwurst](https://en.wikipedia.org/wiki/Bratwurst#Germany)\\n- [Leberkäsebrötchen](https://en.wikipedia.org/wiki/Leberk%C3%A4se#Methods_of_eating) (Leberkäse bread roll)\\n- [Spätzle](https://en.wikipedia.org/wiki/Sp%C3%A4tzle) (either with cheese as \"Käsespätzle\" or with some sort of sauce or meat)\\n- [Schnitzel](https://en.wikipedia.org/wiki/Schnitzel) (Austrian, but who cares?)', 'length': 1491, 'source': 'https://www.reddit.com/r/germany/wiki/faq', 'id': '528347cf-f63c-4745-8b56-56daa032b731'}, {'headline': 'Travelling', 'question': \"I want to bring snacks or other gifts for my friends / host family. What things can't you get in Germany that I could bring from the US?\", 'content': \"First of all, keep [German customs regulations](https://www.zoll.de/EN/Home/home_node.html) in mind - notably, bringing meat and fish products into the EU can be problematic, and you can only bring limited quantities of alcohol in duty-free.\\nCommon suggestions for good gifts include:\\n- Products from your town or area (e.g. local crafts, guidebook, or cookbook). Depending on your host family's tastes, sport apparel (e.g. a jersey from a local sports team) may also be a good gift.\\n- American chocolate uses different ingredients and is not to most Europeans' taste.\\n- Alcohol is another common suggestion, but it strongly depends on your hosts' tastes (do they drink alcohol? A local wine or a local craft beer? Or a national liquor?); therefore, be considerate, and if you're unsure, wine is a good default option. If your hosts have kids, make sure they are above the age of 18 before giving them alcohol.\\n- Certain higher-end brands (e.g. clothes, makeup, bags) are much cheaper in the US than in Europe, but particularly when buying clothes, keep in mind that American clothes are often cut more loosely than European clothes, and so may not be to everyone's tastes.\\nSnacks are always a popular gift item; here are some of the more common suggestions for American snacks that are difficult to find in Germany:\\n- Root beer flavored candies\\n- Candy corn\\n- Rare Oreo flavors\\n- Chex Mix\\n- Kool-Aid mix\\n- Nutty bars, pecan rolls and honey buns\\n- Twinkies\\n- Ranch flavored things\", 'length': 2967, 'source': 'https://www.reddit.com/r/germany/wiki/faq', 'id': '39b34881-168a-4e6f-9ad0-5e5279cd0924'}, {'headline': 'Travelling', 'question': 'I am visiting Germany and I need to know how to get from x to y?  What is the cheapest way to travel?', 'content': \"- Start at [Rome2Rio.](http://www.rome2rio.com)  Here you put in where you start and where you want to end up. This will give you general options (flying, train, bus, driving both by rideshare and alone).  This doesn't work for you, or you want to see specific options for just one of these?\\n- The official train website is [bahn.de](http://www.bahn.de) and you can change the language into one you prefer. You can also download their app on your mobile phone to check routes, times, buy and store tickets on the go. There's a limited contingent of  reduced-price tickets for early booking, so if you can, book 6-8 weeks in advance. For more information, see the [wiki page on train travel](https://www.reddit.com/r/germany/wiki/travelling/trains).\\n- The [Fernbus](https://meinfernbus.de/en) (long-distance coach) is a good alternative to the train for budget-conscious travellers -  it's usually cheaper and the coaches are comfortable, but will be slower than the train.\\n- One of the largest ridesharing companies is [blablacar](https://www.blablacar.com/), and there is also the [Mitfahrzentrale](https://www.mifaz.de/de/suche). Share a ride with people passing through where you are and where you're going.\\n- There are internal German flights, but they tend to only make sense when you're travelling from the northern to the southern end of Germany. You can check connections and times on a consolidator like [Google Flights](https://www.google.de/flights/).\\n- You may also want to look at our [page on general travel advice](/r/germany/wiki/travelling/generaladvice).\", 'length': 3147, 'source': 'https://www.reddit.com/r/germany/wiki/faq', 'id': '6eb89256-d38a-4699-bec8-ba5e253dac10'}, {'headline': 'Culture', 'question': 'What main cultural differences can I expect?', 'content': 'Please visit our [etiquette page.](https://www.reddit.com/r/germany/wiki/culture/etiquette)', 'length': 189, 'source': 'https://www.reddit.com/r/germany/wiki/faq', 'id': '0dae4dc5-2b9a-4b55-a4cd-5b338917b4f8'}, {'headline': 'Culture', 'question': 'What are bad stereotypes about Americans in Germany?', 'content': \"Loud, wear baseball hats and cargo shorts, think Nazi salutes and Hitler jokes are funny, don't speak any German (and demand that everyone speaks English to them), and can't comprehend that things outside of the lower 48 states might even be *slightly* different (such as the fact that other countries might not use US dollars as their currency).\", 'length': 699, 'source': 'https://www.reddit.com/r/germany/wiki/faq', 'id': '33fbc0c9-d841-427f-bf46-620f5fb96bab'}, {'headline': 'Culture', 'question': 'Will I get in trouble if I show a Nazi symbol, do a Nazi salute, or make a Nazi joke?', 'content': 'There is a fair amount of confusion about this topic. **Owning** something with a Nazi symbol is perfectly legal, **publicly displaying** or **selling** it is not - except for objects are classified as art or serve to teach and educate. This means that owning a book with a Swastika on the cover (that\\'s not about eastern mysticism) is legal, but publicly displaying it (e.g. reading on the bus) is problematic. Having a picture in your apartment of a Nazi flag is legal, walking around the streets with one is not. Having a visible tattoo with a Nazi symbol is illegal, as is doing the Nazi salute in public.\\nMany World War 2 era video games sold in Germany have the Nazi symbols replaced with other symbols - even though games are classified as art (and would therefore be allowed to display Nazi symbols), game publishers don\\'t want the hassle of having to prove they fall under the art exception clause. However, owning a game with Nazi symbols (e.g. one purchased abroad) is perfectly legal, as long as you don\\'t show it to others (so streaming can problematic).\\nHowever, books/films *about* the Nazis or the Third Reich are totally OK, as long as they don\\'t seek to glorify the Nazi regime.\\nMaking jokes about Nazis is not illegal, but are considered in very poor taste (unless done *very* carfully), and will very likely not elicit a positive response from your audience. Calling someone in Germany a Nazi is a serious insult, so casual terms like \"grammar Nazi\" should be avoided.\\nThe Nazis are not a taboo subject in Germany by any means - it\\'s probably the most-discussed and debated period in German history by far - but it\\'s considered a serious subject. So, in general, it\\'s recommended that you avoid making offhand or casual references or comparisons to the Nazis - it would be a bit like comparing a particularly bad commute to the [Trail of Tears](https://en.wikipedia.org/wiki/Trail_of_Tears), for example.\\nSee also the [Etiquette section of the wiki](https://www.reddit.com/r/germany/wiki/culture/etiquette#wiki_nazi_references) and [the law governing symbols of banned organisations](https://en.wikipedia.org/wiki/Strafgesetzbuch_section_86a).', 'length': 4333, 'source': 'https://www.reddit.com/r/germany/wiki/faq', 'id': '18d78b80-76b5-4fee-96db-3d1a998a4780'}, {'headline': 'Culture', 'question': 'What are those signs above the doors of houses reading \"20 * C + M + B + 22\"?', 'content': 'It\\'s a symbol left by the *Sternsinger* ([star singers](https://en.wikipedia.org/wiki/Star_singers#Central_Europe)). In many areas of Germany, on the festival of Epiphany (January 6th), groups of children will go from door to door, usually dressed as the Biblical [Magi](https://en.wikipedia.org/wiki/Biblical_Magi) (known as the \"Three Wise Men\" in Germany), sing songs, recite poems, and collect donations for a charitable cause. Once they\\'ve visited a house, they will write the initials \"CMB\", with the year around it (so 2022 in the example above), either in chalk or as a black sticker with white writing on it, above the door of the house. \"CMB\" either stands for \"Christus Mansionem Benedicat\" (Christ bless this house) or \"Caspar Melchior Balthazar\" (the names of the Magi in the German tradition) - sources differ on which one it really is. While some groups focus on the homes of other members of their church, others ring every doorbell, so merely having these symbols above a door doesn\\'t necessarily signify that the people living there are members of a church or even religious.', 'length': 2193, 'source': 'https://www.reddit.com/r/germany/wiki/faq', 'id': 'd2b283ba-1a4e-4d52-b802-dbb343663971'}, {'headline': 'Studying', 'question': 'What are good universities for my subject?', 'content': 'Among public universities, there aren\\'t any \"good\" or \"bad\" universities, and \"university rankings\" are fairly meaningless in Germany. Having said that, some individual professors may have more standing in their subject than others (which is relevant for graduate and postgraduate research). Private universities are generally seen as less good than public universities.', 'length': 747, 'source': 'https://www.reddit.com/r/germany/wiki/faq', 'id': '436d946e-c3e7-4c90-a493-e4488d0271fa'}, {'headline': 'Studying', 'question': 'Do I need to learn German?', 'content': \"As a general rule, yes. Degrees entirely in English are rare (particularly for Bachelor's degrees), and even if the course is in English, daily life is in German. Don't expect your bank, your landlord, the police, the shopkeepers, or the city authorities to speak English to you. [Here is a longer explanation](/r/germany/wiki/living/knowing-german).\", 'length': 707, 'source': 'https://www.reddit.com/r/germany/wiki/faq', 'id': '10bf280a-43d7-44c6-ae96-9be2206f610c'}, {'headline': 'Studying', 'question': 'Is studying (really) for free in Germany?', 'content': 'The study fees have been abolished, but universities still require you to pay the term fees (Semesterbeitrag), which are also used to pay for your Semesterticket for public transport. Also, keep in mind that you need enough money to support yourself (food, somewhere to live, clothes, transport...). The cost of living varies greatly by city and by how frugal (or not) your lifestyle is, but as a rough guide: in the cheapest parts of the country, living frugally, you can expect to spend around 10 k€ per year on cost of living. For \"average\" cities budget 12 k€ per year, and for the most expensive cities (particularly Munich) budget more than 15 k€.', 'length': 1313, 'source': 'https://www.reddit.com/r/germany/wiki/faq', 'id': '2dd64a4f-e9f3-4863-b178-ece2a9170039'}, {'headline': 'Studying', 'question': 'Are there any special requirements?', 'content': 'You need to have proof of financial resources to verify that you can pay for your period of study. At least the living expenses for your first year in Germany must be fully financed. You need around 10 k€ in income or assets for the first year. The German embassy in your home country will provide more information on the proof that needs to be provided.', 'length': 715, 'source': 'https://www.reddit.com/r/germany/wiki/faq', 'id': 'b030db69-b303-4f77-a310-60941fd2d125'}, {'headline': 'Living', 'question': 'How to make friends in Germany?', 'content': 'Germans are known to have a hard shell and are bound to be less sugary in their initial interactions than Americans, for example. The analogy that\\'s often used is \"peach\" vs \"coconut\". Americans are (stereotypically) a \"peach\" culture - very easy to make casual acquaintances and friends, but friendships tend to stay pretty shallow. Germans, on the other hand, are stereotypically considered a \"coconut\" culture - it takes a while to become friends with them, but if you do, then friendships tend to go much deeper. It\\'s often said that a German \"friend\" is more like an American \"best friend\".\\nTherefore, it takes time and patience to become friends with Germans - so don\\'t be discouraged if it doesn\\'t work immediately. One challenge for newly-arrived foreigners, of course, the language. Learning German is essential to becoming friends with Germans - while many Germans speak good-to-excellent English, equally many may not be comfortable using English in social settings, or, more likely, social settings all gravitate to German by default anyway. Therefore, if you\\'re looking to make friends, make learning German a priority.\\nGermans tend to make friends through shared social activities (a setting in which communication is easy and you have common interests), as opposed to meeting random strangers (say, by chatting them up in a bar or on the train). Additionally, Germans *tend* not to be friends with their work colleagues, preferring to keep \"work life\" and \"private life\" separate.\\nGermany has a very strong *Verein* (\"association\" or \"club\") culture, so joining one is usually a good way to make friends. It doesn\\'t matter what you are into - you will definitely find an association that suits you, whether it be football, rowing, gardening, book discussion, bowling, archery, mapmaking, model railways, board games, dog ownership, ballroom dancing, or genealogy - there is very likely a Verein for that hobby nearby. Of course, you can also become a member of political or professional associations, although the latter tend to be more spread out, or start volunteering somewhere.\\nTherefore, as a first stab at making friends, see if you have any hobbies which can be done with others (team sports are fantastic, but as explained above there are also plenty of others), then see if you can find groups of people (often, but not always, through a *Verein* - or, as an alternative, see if there is a \"meetup\" for your particular interest) who share your interests. Go along to their events/training/etc, start chatting to the people there, and see if you can connect with any of them. Alternatively, for parents, see if your children are interested in going on playdates with other children who attend the same school/kindergarten, and use that as an excuse to get to know their parents.\\nAdditionally, there are often groups like \"new in city X\", which are great for new arrivals to meet, mingle, and chat about their experiences. Since many people will be new in a particular place, many will be open to meeting new people. The only downside is that they tend to be somewhat immigrant-heavy, and can lead to you being trapped in the \"immigrant bubble\". So by all means make friends with other newly-arrived people, but also try \"branching out\" and making friends with locals.', 'length': 6587, 'source': 'https://www.reddit.com/r/germany/wiki/faq', 'id': '62cbcc43-fa8d-44c2-8e39-5fa7610b55f4'}, {'headline': 'Living', 'question': 'What kind of SIM card would you recommend? Where can I buy SIM cards?', 'content': 'Price-wise, the SIM cards sold by discounters (Aldi, Netto, Lidl) are cheapest. SIM cards can be bought from supermarkets, telecom stores, large electronics stores, and online. Note that pre-paid SIM cards need to be activated before they can be used, which, while straightforward for German residents, can be a bit of a hassle for tourists.\\nFor more information about mobile phones and SIM cards, see the [connectivity page](https://www.reddit.com/r/germany/wiki/living/connectivity)', 'length': 975, 'source': 'https://www.reddit.com/r/germany/wiki/faq', 'id': '9942d903-37df-4bbb-8fde-9ea16414362a'}, {'headline': 'Living', 'question': 'What internet providers are there in my region?', 'content': 'Enter your area code (PLZ) on [this website](http://www.verivox.de/internet-vergleich/internetundtelefon/). The [connectivity page](https://www.reddit.com/r/germany/wiki/living/connectivity) has more details on home internet options.', 'length': 473, 'source': 'https://www.reddit.com/r/germany/wiki/faq', 'id': 'd7af3426-6e50-4e6c-94be-95c7c66eaf90'}, {'headline': 'Living', 'question': 'What kind of banks can you recommend?', 'content': 'It depends on your passport and situation. Some passports are not recognised by most banks, so they only let you open an account if you have a residence permit. Other banks even require permanent residency. In general, look for a bank with low fees and free ATM withdrawals.\\nYou may also want to look at the [banking](/r/germany/wiki/living/banking) page for more details.', 'length': 751, 'source': 'https://www.reddit.com/r/germany/wiki/faq', 'id': 'a22d867b-481f-4288-8e92-344ba450e28b'}, {'headline': 'Living', 'question': 'How do I get rid of small change? Can I exchange it for cash or deposit it somehow?', 'content': \"Your own bank will do it for free, although not every branch does have a machine. If you're not a customer, you usually have to pay a small fee. The Bundesbank (Federal Bank) will exchange it for free. See [this guide](https://allaboutberlin.com/guides/exchange-coins-berlin) for more details.\", 'length': 593, 'source': 'https://www.reddit.com/r/germany/wiki/faq', 'id': '78bfc5c9-9501-4d80-891b-27e492debbcc'}, {'headline': 'Living', 'question': \"I didn't pay bill/fine XY. What are the consequences?\", 'content': \"Don't ask for it. We will not help you there. Just pay them like anyone else.\", 'length': 161, 'source': 'https://www.reddit.com/r/germany/wiki/faq', 'id': 'c52a44ee-df0d-4c0c-be69-d9dadea06b0d'}, {'headline': 'Living', 'question': 'Is streaming legal? What about torrents?', 'content': \"Streaming or torrenting illegally obtained video (i.e. video which the copyright holder has not released to the public for free) is illegal. If you download such material via BitTorrent then it's very likely that you will be caught and fined. If you stream such material, or use a VPN, then the chances of being caught are lower.\\nFor more information on watching videos in Germany, see the [media download page](/r/germany/wiki/living/downloads).\", 'length': 899, 'source': 'https://www.reddit.com/r/germany/wiki/faq', 'id': '722a4899-c41a-4fe0-94a8-e7293836e35f'}, {'headline': 'Living', 'question': \"A company is trying to scam me, e.g. by sending me fake bills for services that I don't think I signed up for.\", 'content': 'Contact both the [Verbraucherschutzzentrale](https://www.verbraucherzentrale.de/home) and the [Bundesnetzagentur](http://www.bundesnetzagentur.de/cln_1411/DE/Home/home_node.html) so they can take action on your behalf. Also, try and see if there are other victims (Google).', 'length': 553, 'source': 'https://www.reddit.com/r/germany/wiki/faq', 'id': '510b7c8d-7ad5-49b5-b209-7ed5761482c9'}, {'headline': 'Living', 'question': 'I am getting unwanted promotional calls.', 'content': 'Contact the [Bundesnetzagentur.](http://www.bundesnetzagentur.de/cln_1411/DE/Home/home_node.html)', 'length': 201, 'source': 'https://www.reddit.com/r/germany/wiki/faq', 'id': 'af1d2a5d-d48e-427c-9149-9e9251be1087'}, {'headline': 'Living', 'question': 'Is there a German Craigslist?', 'content': \"There is [eBay Kleinanzeigen](https://www.ebay-kleinanzeigen.de/). For women's stuff, there is also [Kleiderkreisel](https://www.kleiderkreisel.de/). For cars there is [Mobile.de](https://www.mobile.de/). Apart from that, look for local Facebook groups.\", 'length': 513, 'source': 'https://www.reddit.com/r/germany/wiki/faq', 'id': 'd826e349-e5da-4d00-a8be-7f1f3fe46169'}, {'headline': 'Living', 'question': 'How do I deregister from paying the Rundfunkbeitrag due to leaving Germany or notify them that someone else at my Wohnung is paying?', 'content': '- [Go here](https://www.rundfunkbeitrag.de/formulare/buergerinnen_und_buerger/index_ger.html) and download the form called \"Abmeldung der Wohnung\"\\n- Section 1:  Fill in your information\\n- Section 2:  Date that you are leaving OR date from which you have been living with someone else paying the bill\\n- Section 3:  If you are leaving, check the second box.  This will require a copy of your deregistration form.  If someone else where you live is paying, pick the first option.  You will need to provide their account number and name.\\n- Section 4:  Fill in your information\\n- Section 5:  Date and sign\\n- Send the form and any required documents to the address listed.\\nSee also our [guide to the Rundfunkbeitrag](https://www.reddit.com/r/germany/wiki/living/rundfunkbeitrag) for more details and background.', 'length': 1613, 'source': 'https://www.reddit.com/r/germany/wiki/faq', 'id': '79096464-a7e2-4a9d-9ff5-7ea7676250b2'}, {'headline': 'Living', 'question': 'Is marijuana / pot / weed / cannabis legal?', 'content': 'The situation is somewhat complex. Starting on April 1st, 2024, partial legalisation has come into effect. However, the only ways of legally acquiring it (growing it at home or joining a growing cooperative) are not available to non-residents. You cannot buy cannabis in any kind of shop, and buying from dealers continues to be illegal. See <https://www.reddit.com/r/germany/wiki/living/cannabis> for more information.', 'length': 845, 'source': 'https://www.reddit.com/r/germany/wiki/faq', 'id': '95752ebd-56c9-4fcf-af68-322dc60c4ecd'}, {'headline': 'Living', 'question': 'Can I own a gun in Germany?', 'content': 'Firearms are strictly controlled in Germany. Generally speaking:\\n- To own a gun (but not carry it around with you), you need to a member of a sports shooting club or a licenced and active hunter, pass a gun safety exam, and have a clean police record. You can then own and use a gun, but only in certain locations (e.g. a shooting range or a designated hunting forest), and outside of those areas, the gun must be unloaded, locked in a container, and the ammunition carried in a separate container. At home the gun must be locked away in a gun safe.\\n- To carry a gun with ammunition around with you, you need to show that you have an urgent need to do so. This is generally only granted to a very small number of people who are at a significantly higher risk of being violently attacked - e.g. controversial high-profile public figures, professional bodyguards, etc. Simply saying that you \"feel unsafe\" or \"want a gun for self protection\" is not sufficient.\\n(source: [comment](https://www.reddit.com/r/AskAGerman/comments/pou173/how_to_legally_owncarry_a_gun_as_a_foreigner/hczkdtd?&context=3) by /u/MedEwok)\\nEven if you have a permit to carry a loaded gun around with you, you can only legally use it in self-defence if you can make a convincing case that it was the last resort available to you, and that your use of the gun was proportional to the threat you faced.', 'length': 2745, 'source': 'https://www.reddit.com/r/germany/wiki/faq', 'id': '9a82b330-8eb4-48aa-9cdb-b11e6c76e1bc'}, {'headline': 'Living', 'question': 'Is the tap water in Germany safe to drink?', 'content': 'Tap water in Germany is extremely strictly regulated (much more strictly than bottled water) and always safe to drink. Having said that, water in some parts of Germany can be a bit hard (high calcium oxide content), and some people may not like the taste - in that case, you might want to consider a water filter. Additionally, some people prefer fizzy water, which can be bought as bottled water, or created at home with a CO2 cartridge.', 'length': 883, 'source': 'https://www.reddit.com/r/germany/wiki/faq', 'id': 'e71d3d02-a393-4486-b0d0-e82a950a72ee'}, {'headline': 'Working', 'question': 'Can I just come to Germany and start working?', 'content': 'Contrary to popular belief, it is not possible to just come to Germany and work here. Non-EU citizens need a residence permit to work from the German government, and these are only granted under specific circumstances.\\nSee our wiki guides to [how to move to Germany](https://www.reddit.com/r/germany/wiki/paths) and [working in Germany](/r/germany/wiki/working) for more details.', 'length': 765, 'source': 'https://www.reddit.com/r/germany/wiki/faq', 'id': '2affb802-c8c9-4785-aa49-1562a54ec126'}, {'headline': 'Working', 'question': 'I am here on visa X and I would like to change it into visa Y so I can continue/start to work here. What to do?', 'content': 'Go to your local Ausländerbehörde - they will give you all the information you need for your specific case. Generally speaking, there are no preferential conditions for \"changing\" visa - you have to apply and meet all the requirements for the new visa as if you were applying \"from scratch\".', 'length': 589, 'source': 'https://www.reddit.com/r/germany/wiki/faq', 'id': 'b5e5e78c-f3ea-432b-a6d6-d3ece5c0a60b'}, {'headline': 'Working', 'question': 'I am a native xy speaker. Can I become a teacher?', 'content': \"It is highly unlikely. The German school system is highly regulated and if you don't have a formal education and/or don't speak German at a near-native level, you might not even be able to become a *Quereinsteiger*/*Seiteneinsteiger*. Also, being a native speaker does not make you a great teacher. As a result, in most cases, the maximum you can do is to offer private tuition to pupils who are behind on their course work, or teach at a private language school.\", 'length': 933, 'source': 'https://www.reddit.com/r/germany/wiki/faq', 'id': '267aec66-f11c-4bef-be34-eb6c613814d7'}, {'headline': 'Working', 'question': 'I have a teaching degree or a degree that is compatible with school subjects (e.g. maths or physics). Can I become a teacher?', 'content': 'One needs to take into account that teaching degrees cannot simply be converted into German ones. And again, good German is a requirement. Enquiring with the ministry of education for more info might be a good idea. If you have a degree that enables you to teach a subject, you can become a Seiteneinsteiger/Quereinsteiger (if you meet the language requirements).', 'length': 733, 'source': 'https://www.reddit.com/r/germany/wiki/faq', 'id': '5f8b4397-cd8f-40b7-b85b-b1f24965ebc9'}, {'headline': 'Working', 'question': \"Am I going to be low priority because I don't have a degree of any kind?\", 'content': 'Yes; not having a university degree (or other vocational qualification, which must be equivalent to a German one) makes immigrating *much* harder. Many of the more straightforward residence permits require that you have a formal qualification of some kind.', 'length': 519, 'source': 'https://www.reddit.com/r/germany/wiki/faq', 'id': '380fcfae-c6a8-43f4-bcdc-a861e8a5d0a6'}, {'headline': 'Working', 'question': \"I am still learning German and from what I understand a lot of Germans are happy to speak English with anyone they can, but I'm worried that in a job setting me not being able to speak the language will hold me back from being the best employee I can be, should I wait until I have a firm grasp of the German language before I attempt to emigrate?\", 'content': \"More than 98% of job openings in Germany require fluent German, and any candidate who doesn't speak fluent German won't even be considered. If you don't speak German, then you would be limited to working in the small niches which operate in English (e.g. some parts of the IT, engineering, and finance sectors). In general, emigrating to Germany without speaking German is very difficult.\\nYou have 2 real options.\\nFirst is probably the right solution for your situation. Apply to a German university, many classes are in English, and even entire degree programs are in English. I can't speak of the difficulty getting into a German university. A last resort way to get your foot into Germany may be US study programs that allow you to go on exchange. If you take part in an exchange, you can speak to a counsellor in Germany and see if you can transfer permanently. This will get you a study visa. Getting into a German university and a study visa will be the only visa you get.\\nAnother options is that if you are currently in a job in the US and they offer to send you to Germany to work. That would be the only way for you really to get a work visa. But not having a college degree, I doubt you are currently in a job that offers a transfer to Germany.\\nWhen you get into a German university you should focus on learning German culture and language as much as you do your class work.\", 'length': 2775, 'source': 'https://www.reddit.com/r/germany/wiki/faq', 'id': '188e6161-e415-4c0e-924f-8d852f6bce6c'}, {'headline': 'Language', 'question': \"I'm thinking of travelling to / studying / working in Germany. Will I get by without German?\", 'content': \"As a tourist, you will most likely not have any problems to get by without speaking a word of German. It would still be nice of you to at least learn a few basic phrases.\\nAs for a more permanent form of stay: The answer is... no. While many people speak English to a certain degree, not all do. You still need to be able to speak German in order to set up a bank account, read important documents and contracts and get serviced at all kinds of town offices. Don't expect the municipal authorities, your mobile phone provider, or your bank to speak (or write) to you in English. Also, to truly appreciate the German culture, you need to be able to speak the language. If you plan on staying for longer, it also becomes a matter of respect.\\nFor a longer explanation, see our guide to [do I need to know German in Germany?](/r/germany/wiki/living/knowing-german)\", 'length': 1725, 'source': 'https://www.reddit.com/r/germany/wiki/faq', 'id': 'cb352ab0-ce32-43e2-9719-8ec9a8d3bf91'}, {'headline': 'Language', 'question': 'Can I find a job without speaking German?', 'content': 'There are not many industries where you could find a job without speaking German. Engineering and Programming? Possibly. But apart from that, there are not many jobs that do not require at least some rudimentary German. The best chances to find a small job on the side to pay e.g. for university are probably in Berlin, but even then, there will not be many available. Speaking English does in no way distinguish you from well-educated German students. Mind that a lot of paperwork (as well as all of daily life) is still done in German.\\nFor more details, see our guides to [requirements for working in Germany](https://www.reddit.com/r/Germany/wiki/working/requirements) and [living in Germany without speaking German](https://www.reddit.com/r/germany/wiki/living/knowing-german).', 'length': 1569, 'source': 'https://www.reddit.com/r/germany/wiki/faq', 'id': 'e7bac183-cbae-4797-86fd-f97de78cd83c'}, {'headline': 'Language', 'question': 'Do Austrians and Germans have problems understanding each other?', 'content': 'I don\\'t really think so. While the general Austrian accent closely resembles the Bavarian one, it\\'s probably easier to understand Austrians than to understand Bavarians. Their version of standard German uses [some words that are different](http://de.wikipedia.org/wiki/Liste_von_Austriazismen) from the \"German\" standard German, but that\\'s the same in Germany, especially when comparing the South to the North (e.g. \"buns\": Semmel, Brötchen, Weck...). The Austrian language melody tends to be a bit different; however, after only a few days in Austria, I was able to somewhat \"adapt\" the melody. This will not be easy for a non-native, though.', 'length': 1293, 'source': 'https://www.reddit.com/r/germany/wiki/faq', 'id': '59fbe782-f455-4f59-b707-a750da28122d'}, {'headline': 'Language', 'question': 'What about Swiss German?', 'content': 'It can be very hard to understand at time. The Swiss German accent is very different from standard German.', 'length': 219, 'source': 'https://www.reddit.com/r/germany/wiki/faq', 'id': 'fdbf2112-8535-46da-9f2a-efade09869dc'}, {'headline': 'Language', 'question': \"Is it really impossible to speak German in Germany? I've heard that all Germans switch to English once they hear that you're a foreigner because their English is so good.\", 'content': 'This is a very common misconception. English skills vary greatly between old and young, upper class and lower class, Hauptschüler and Gymnasiast, as sad as it is. Of course, you will come across people who will automatically switch to English. Insist on speaking German with them, either by asking them (perhaps with a smile) to speak German or by just keeping speaking German with them.', 'length': 781, 'source': 'https://www.reddit.com/r/germany/wiki/faq', 'id': '8463f07c-0e0c-47d7-96cf-10b70f50f604'}, {'headline': 'Language', 'question': 'What do \"digga\" and \"alter\" mean?', 'content': '\"Digga\" is used as a colloquial greeting or term of endearment (similar to the American \"bro\" or \"dude\"), and can also be used as an interjection. It\\'s not offensive, but it\\'s *extremely* informal, so it\\'s generally only used between friends, in certain social settings, and generally only by young people. The origins of the phrase are unclear - it\\'s likely either a corruption of \"dicker\" (meaning \"fat one\" or \"big guy\"), or, alternatively, a corruption of \"mit jemandem dicke sein\" (to be very good friends with someone).\\n\"Alter\" (\"old one\") is used in a similar way, as a greeting or an interjection.', 'length': 1217, 'source': 'https://www.reddit.com/r/germany/wiki/faq', 'id': '380fc759-e0a4-4d67-9c18-cab1f5174909'}, {'headline': 'Genealogy', 'question': 'Help, I cannot find a place called \"x\" in the region of \"y\", which is stated on my ancestor\\'s immigration / naturalisation / shipping record!', 'content': 'This is because the borders of back then are not the same as they are now. Take, for example, the Palatinate region, which is where a large percentage of immigrants came from: for a very long time, parts of this region was a Royal Bavarian exclave. Entering the place name in the German Wikipedia usually yields a list of possible results (make sure you find the disambiguation page for the place name).', 'length': 813, 'source': 'https://www.reddit.com/r/germany/wiki/faq', 'id': '9a04adc6-33b2-4221-bf21-58c06f3d955b'}, {'headline': 'Genealogy', 'question': 'I have pictures of my ancestors in military uniforms, their insignia, medals or military documents. Who can tell me more about them?', 'content': 'If you just want a translation, try /r/translator. If you want expert advice, go visit [Forum der Wehrmacht](http://www.forum-der-wehrmacht.de/); they have subforums for everything.', 'length': 369, 'source': 'https://www.reddit.com/r/germany/wiki/faq', 'id': '11bc0926-9714-4b4a-ab5c-bd981d317246'}, {'headline': 'Genealogy', 'question': 'Can you guys read and/or translate the birth record / letters / death certificate of my ancestors?', 'content': 'It would be nice if you could post these things in /r/translator instead. You will surely receive help there.', 'length': 225, 'source': 'https://www.reddit.com/r/germany/wiki/faq', 'id': '44085709-96ef-47d3-82e0-e403c7b598b2'}, {'headline': 'Genealogy', 'question': 'My ancestors were German nationals / one parent was born in Germany. Can I get a German passport?', 'content': 'German passports are only issued to German citizens. Having German ancestors or the fact that your father and/or your mother was/were born in Germany is unfortunately not enough to attain German citizenship. Rather, your father and/or mother have to have been German citizens at the time of your birth. If you were born before 1 January 1975 and your parents were married, you only attained German citizenship if your father was German at the time of your birth or if your parents submitted a declaration by 31 December 1977 stating they wanted German citizenship for their child. [Source.](http://www.auswaertiges-amt.de/EN/Infoservice/FAQ/Staatsangehoerigkeit/02-Vorfahren.html?nn=479790) For more info about ways and circumstances under which it is possible to attain citizenship, [refer to this page.](https://www.auswaertiges-amt.de/en/aamt/zugastimaa/buergerservice/faq/-/606854)\\nNote that according to German law a person renounces their German citizenship if:\\n1. The person *voluntarily* applies for the citizenship of a country outside Switzerland or the EU.\\n2. Serving in a foreign army prior to 2011.\\nIf one or both of your German citizen parents have done this before you were born, or if you have done either of these then you were never or are no longer a German citizen.', 'length': 2577, 'source': 'https://www.reddit.com/r/germany/wiki/faq', 'id': 'd2f49458-57c7-405c-9836-82cd7b42c7e0'}, {'headline': 'Genealogy', 'question': 'I/my ancestors was/were denationalized by the National Socialists. Can I get my German citizenship back?', 'content': 'Yes, victims of National Socialist denationalization measures and their descendants have the right to be renationalized in line with Article 116 (2) of the Basic Law even if this means multiple nationality. There is no need to prove knowledge of the German language. Nevertheless it is examined whether the German nationality of the ancestor could have been lost for reasons unrelated to National Socialism. Were this the case, the descendants would have no right to German citizenship. [source](http://www.auswaertiges-amt.de/sid_8102715B432128CA20217EC07AF2F4C5/EN/Infoservice/FAQ/Staatsangehoerigkeit/16-Ausbuergerung.html?nn=479790)', 'length': 1279, 'source': 'https://www.reddit.com/r/germany/wiki/faq', 'id': '97272d36-c1aa-4e30-806b-af47423bf325'}]\n"
     ]
    }
   ],
   "source": [
    "print(doc)"
   ]
  },
  {
   "cell_type": "code",
   "execution_count": 14,
   "metadata": {},
   "outputs": [
    {
     "data": {
      "text/plain": [
       "{'headline': 'Travelling',\n",
       " 'question': 'What kind of clothing should I bring?',\n",
       " 'content': 'Germany has temperatures ranging from ~-15°C to ~34°C (5°F-93°F). Both of these are extremes that occur only during a few weeks in the year. Usually having a warm jacket during the winter, and a wind jacket or raincoat during the rest of the year should be fine. In the summer and spring, bring both long and short clothing, in autumn and winter, bring long clothing. What you should not bring are baseball caps. They look just weird and nobody really wears them. There is snow in the winter, and a lot of rain through the year.',\n",
       " 'length': 1063,\n",
       " 'source': 'https://www.reddit.com/r/germany/wiki/faq',\n",
       " 'id': '668dc206-4248-4554-bddb-238ee9eaa0df'}"
      ]
     },
     "execution_count": 14,
     "metadata": {},
     "output_type": "execute_result"
    }
   ],
   "source": [
    "doc[0]"
   ]
  },
  {
   "cell_type": "code",
   "execution_count": 18,
   "metadata": {},
   "outputs": [
    {
     "name": "stdout",
     "output_type": "stream",
     "text": [
      "Genealogy\n",
      "Yes, victims of National Socialist denationalization measures and their descendants have the right to be renationalized in line with Article 116 (2) of the Basic Law even if this means multiple nationality. There is no need to prove knowledge of the German language. Nevertheless it is examined whether the German nationality of the ancestor could have been lost for reasons unrelated to National Socialism. Were this the case, the descendants would have no right to German citizenship. [source](http://www.auswaertiges-amt.de/sid_8102715B432128CA20217EC07AF2F4C5/EN/Infoservice/FAQ/Staatsangehoerigkeit/16-Ausbuergerung.html?nn=479790)\n",
      "I/my ancestors was/were denationalized by the National Socialists. Can I get my German citizenship back?\n",
      "https://www.reddit.com/r/germany/wiki/faq\n"
     ]
    }
   ],
   "source": [
    "for d in doc:\n",
    "    print(d[\"headline\"])\n",
    "    print(d[\"content\"])\n",
    "    print(d[\"question\"])\n",
    "    print(d[\"source\"])\n",
    "    sleep(1)\n",
    "    clear_output(wait=True)"
   ]
  },
  {
   "cell_type": "code",
   "execution_count": 19,
   "metadata": {},
   "outputs": [],
   "source": [
    "for d in  doc:\n",
    "    if d[\"content\"] is None:\n",
    "        print(doc[\"id\"])\n",
    "    elif d[\"headline\"] is None:\n",
    "        print(doc[\"id\"])\n",
    "    elif d[\"length\"] is None:\n",
    "        print(doc[\"id\"])\n",
    "    elif d[\"question\"] is None:\n",
    "        print(doc[\"id\"])\n",
    "    else:\n",
    "        pass"
   ]
  },
  {
   "cell_type": "code",
   "execution_count": 20,
   "metadata": {},
   "outputs": [],
   "source": [
    "with open('faq.json', 'wt') as f_out:\n",
    "    json.dump(doc, f_out, indent=2)"
   ]
  },
  {
   "cell_type": "code",
   "execution_count": 21,
   "metadata": {},
   "outputs": [],
   "source": [
    "with open(\"doc_with_q_4o-mini.json\", 'rt') as f_in:\n",
    "    list1 = json.load(f_in)"
   ]
  },
  {
   "cell_type": "code",
   "execution_count": 22,
   "metadata": {},
   "outputs": [],
   "source": [
    "with open(\"faq.json\", 'rt') as f_in:\n",
    "    list2 = json.load(f_in)"
   ]
  },
  {
   "cell_type": "code",
   "execution_count": 23,
   "metadata": {},
   "outputs": [],
   "source": [
    "with open(\"doc_with_q_lama.json\", 'rt') as f_in:\n",
    "    list3 = json.load(f_in)"
   ]
  },
  {
   "cell_type": "code",
   "execution_count": 24,
   "metadata": {},
   "outputs": [],
   "source": [
    "full_gpt = list1 + list2"
   ]
  },
  {
   "cell_type": "code",
   "execution_count": 25,
   "metadata": {},
   "outputs": [
    {
     "data": {
      "text/plain": [
       "661"
      ]
     },
     "execution_count": 25,
     "metadata": {},
     "output_type": "execute_result"
    }
   ],
   "source": [
    "len(full_gpt)"
   ]
  },
  {
   "cell_type": "code",
   "execution_count": 26,
   "metadata": {},
   "outputs": [],
   "source": [
    "full_lama = list3 + list2"
   ]
  },
  {
   "cell_type": "code",
   "execution_count": 27,
   "metadata": {},
   "outputs": [
    {
     "data": {
      "text/plain": [
       "661"
      ]
     },
     "execution_count": 27,
     "metadata": {},
     "output_type": "execute_result"
    }
   ],
   "source": [
    "len(full_lama)"
   ]
  },
  {
   "cell_type": "code",
   "execution_count": 28,
   "metadata": {},
   "outputs": [],
   "source": [
    "with open('docs_with_q_4o-mini.json', 'wt') as f_out:\n",
    "    json.dump(full_gpt, f_out, indent=2)"
   ]
  },
  {
   "cell_type": "code",
   "execution_count": 30,
   "metadata": {},
   "outputs": [],
   "source": [
    "with open(\"docs_with_q_lama.json\", 'wt') as f_out:\n",
    "    json.dump(full_lama, f_out, indent=2)"
   ]
  },
  {
   "cell_type": "code",
   "execution_count": 31,
   "metadata": {},
   "outputs": [],
   "source": [
    "for d in  full_lama:\n",
    "    if d[\"content\"] is None:\n",
    "        print(doc[\"id\"])\n",
    "    elif d[\"headline\"] is None:\n",
    "        print(doc[\"id\"])\n",
    "    elif d[\"length\"] is None:\n",
    "        print(doc[\"id\"])\n",
    "    elif d[\"question\"] is None:\n",
    "        print(doc[\"id\"])\n",
    "    else:\n",
    "        pass"
   ]
  },
  {
   "cell_type": "code",
   "execution_count": 32,
   "metadata": {},
   "outputs": [],
   "source": [
    "for d in  full_gpt:\n",
    "    if d[\"content\"] is None:\n",
    "        print(doc[\"id\"])\n",
    "    elif d[\"headline\"] is None:\n",
    "        print(doc[\"id\"])\n",
    "    elif d[\"length\"] is None:\n",
    "        print(doc[\"id\"])\n",
    "    elif d[\"question\"] is None:\n",
    "        print(doc[\"id\"])\n",
    "    else:\n",
    "        pass"
   ]
  },
  {
   "cell_type": "code",
   "execution_count": null,
   "metadata": {},
   "outputs": [],
   "source": []
  }
 ],
 "metadata": {
  "kernelspec": {
   "display_name": "proje-m46awf8E",
   "language": "python",
   "name": "python3"
  },
  "language_info": {
   "codemirror_mode": {
    "name": "ipython",
    "version": 3
   },
   "file_extension": ".py",
   "mimetype": "text/x-python",
   "name": "python",
   "nbconvert_exporter": "python",
   "pygments_lexer": "ipython3",
   "version": "3.11.2"
  }
 },
 "nbformat": 4,
 "nbformat_minor": 2
}
