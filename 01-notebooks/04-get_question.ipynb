{
 "cells": [
  {
   "cell_type": "markdown",
   "metadata": {},
   "source": [
    "## Chatgpt4o-mini"
   ]
  },
  {
   "cell_type": "code",
   "execution_count": 34,
   "metadata": {},
   "outputs": [],
   "source": [
    "from openai import OpenAI, Client\n",
    "import os\n",
    "import pandas as pd\n",
    "from tqdm.auto import tqdm\n",
    "import json\n",
    "from IPython.display import display, clear_output, Markdown\n"
   ]
  },
  {
   "cell_type": "code",
   "execution_count": 2,
   "metadata": {},
   "outputs": [],
   "source": [
    "with open(\"doc_chunked.json\", 'rt') as f_in:\n",
    "    documents = json.load(f_in)"
   ]
  },
  {
   "cell_type": "code",
   "execution_count": 3,
   "metadata": {},
   "outputs": [
    {
     "data": {
      "text/plain": [
       "614"
      ]
     },
     "execution_count": 3,
     "metadata": {},
     "output_type": "execute_result"
    }
   ],
   "source": [
    "len(documents)"
   ]
  },
  {
   "cell_type": "code",
   "execution_count": 4,
   "metadata": {},
   "outputs": [
    {
     "data": {
      "text/plain": [
       "{'source': 'https://www.reddit.com/r/germany/wiki/autobahn_safety',\n",
       " 'content': 'The Autobahn is a [network of interstate highways in Germany](https://en.m.wikipedia.org/wiki/Autobahn#/media/File%3AAutobahnen_in_Deutschland.svg) with a total length of more than 8,000 miles. [65%](https://en.wikipedia.org/wiki/Autobahn#Speed_limits) of the Autobahn has no speed limit. How safe can that be?\\nVehicles traveled 147 billion miles on the Autobahn in 2015. 322 people died = 2.19 deaths per billion miles.\\nIn the US, vehicles travelled 757 billion miles on interstate highways. 3,837 people died = 5.07 deaths per billion miles.\\nThat means: If you drive on the interstate, your likelihood to die is 131% higher than for the same distance on the Autobahn.\\n*sources:*\\nStatistisches Bundesamt: [Unfallentwicklung auf deutschen Straßen 2015](https://www.destatis.de/DE/PresseService/Presse/Pressekonferenzen/2016/Unfallentwicklung_2015/Pressebroschuere_unfallentwicklung.pdf?__blob=publicationFile)\\nNational Highway Traffic Safety Administration: [Fatal Crashes by STATE and Road Function Class 2015](https://www-fars.nhtsa.dot.gov/)\\nU. S. Department of Transportation: [Traffic Volume Trends December 2015](https://www.fhwa.dot.gov/policyinformation/travel_monitoring/15dectvt/15dectvt.pdf)',\n",
       " 'headline': 'How safe is the Autobahn?',\n",
       " 'id': '9d8370cf-a2c8-4c54-9f9c-476b9c09a933',\n",
       " 'length': 1202}"
      ]
     },
     "execution_count": 4,
     "metadata": {},
     "output_type": "execute_result"
    }
   ],
   "source": [
    "documents[0]"
   ]
  },
  {
   "cell_type": "code",
   "execution_count": 5,
   "metadata": {},
   "outputs": [],
   "source": [
    "client = OpenAI(api_key=os.environ[\"IA\"])"
   ]
  },
  {
   "cell_type": "code",
   "execution_count": 15,
   "metadata": {},
   "outputs": [],
   "source": [
    "prompt_template = \"\"\"\n",
    "You're a helpful assistant. For each content provided, generate one  question that a user might ask. The question should be directly relevant and focus on the key message or detail within the content. If possible, use as fewer words as possible from the content.The questions should be complete and not too short.\n",
    "\n",
    "\n",
    "HEADLINE: {headline}\n",
    "CONTENT: {content}\n",
    "\n",
    "return just question as string.\n",
    "\n",
    "\"\"\".strip()"
   ]
  },
  {
   "cell_type": "code",
   "execution_count": 43,
   "metadata": {},
   "outputs": [],
   "source": [
    "def get_prompt(doc):\n",
    "    content = doc[\"content\"]\n",
    "    headline = doc[\"headline\"]\n",
    "    promt = prompt_template.format(content=content, headline=headline)\n",
    "    return promt"
   ]
  },
  {
   "cell_type": "code",
   "execution_count": 17,
   "metadata": {},
   "outputs": [],
   "source": [
    "def gen_q(prompt):\n",
    "    response = client.chat.completions.create(\n",
    "        model='gpt-4o-mini',\n",
    "        messages=[{\"role\": \"user\", \"content\": prompt}]\n",
    "    )\n",
    "\n",
    "    res = response.choices[0].message.content\n",
    "    return res"
   ]
  },
  {
   "cell_type": "code",
   "execution_count": 21,
   "metadata": {},
   "outputs": [
    {
     "name": "stdout",
     "output_type": "stream",
     "text": [
      "You're a helpful assistant. For each content provided, generate one  question that a user might ask. The question should be directly relevant and focus on the key message or detail within the content. If possible, use as fewer words as possible from the content.The questions should be complete and not too short.\n",
      "\n",
      "\n",
      "HEADLINE: German citizenship by descent\n",
      "CONTENT: *By u/staplehill*\n",
      "German citizenship is [not based on where you are born](https://en.wikipedia.org/wiki/Jus_soli). You get German citizenship either through naturalization after living in Germany for a number of years, or you inherit it from a parent. German citizenship *can* be passed down through multiple generations who live abroad and have no idea that they are actually German citizens. But one can also lose German citizenship just as unknowingly, for example by voluntarily getting the citizenship of another country (1914-today), or due to sex-discriminatory laws that in the past often allowed only the father to pass on German citizenship to a child. If German citizenship got lost due to sex discrimination then there may now be a pathway to restore it - but often not if it was lost for other reasons.\n",
      "Do you have a German ancestor and want to know if you can get a German passport? In order to find out, we have to go through all ancestors in the line between the original German immigrant and you to determine if German citizenship was passed down. Get ready for a bumpy journey back in time through arcane laws, outrageously outdated gender roles, and literal Nazi methods ...\n",
      "Since the rules are complicated you can also post in r/GermanCitizenship and [include this information](https://www.reddit.com/r/Genealogy/comments/scvkwb/ger/hu8wavr/) so that we can tell you if you qualify for German citizenship.\n",
      "\n",
      "return just question as string.\n"
     ]
    }
   ],
   "source": [
    "print(get_prompt(documents[1]))"
   ]
  },
  {
   "cell_type": "code",
   "execution_count": 22,
   "metadata": {},
   "outputs": [],
   "source": [
    "documents_new= []"
   ]
  },
  {
   "cell_type": "code",
   "execution_count": 23,
   "metadata": {},
   "outputs": [
    {
     "data": {
      "application/vnd.jupyter.widget-view+json": {
       "model_id": "72d6296ca1ef490ba9ca77d9c0c68445",
       "version_major": 2,
       "version_minor": 0
      },
      "text/plain": [
       "  0%|          | 0/614 [00:00<?, ?it/s]"
      ]
     },
     "metadata": {},
     "output_type": "display_data"
    }
   ],
   "source": [
    "for doc in tqdm(documents):\n",
    "    promt = get_prompt(doc)\n",
    "    res = gen_q(promt)\n",
    "    id = doc[\"id\"]\n",
    "    documents_new.append({\"id\":id, \"question\":res})"
   ]
  },
  {
   "cell_type": "code",
   "execution_count": 24,
   "metadata": {},
   "outputs": [
    {
     "data": {
      "text/plain": [
       "{'id': '9d8370cf-a2c8-4c54-9f9c-476b9c09a933',\n",
       " 'question': 'What are the safety statistics comparing the Autobahn to US interstate highways?'}"
      ]
     },
     "execution_count": 24,
     "metadata": {},
     "output_type": "execute_result"
    }
   ],
   "source": [
    "documents_new[0]"
   ]
  },
  {
   "cell_type": "code",
   "execution_count": 25,
   "metadata": {},
   "outputs": [
    {
     "data": {
      "text/plain": [
       "614"
      ]
     },
     "execution_count": 25,
     "metadata": {},
     "output_type": "execute_result"
    }
   ],
   "source": [
    "question_map = {q['id']: q['question'] for q in  documents_new}\n",
    "test = list(map(lambda doc: {**doc, 'question': question_map.get(doc['id'], None)}, documents))\n",
    "len(test)"
   ]
  },
  {
   "cell_type": "code",
   "execution_count": 26,
   "metadata": {},
   "outputs": [
    {
     "data": {
      "text/plain": [
       "{'source': 'https://www.reddit.com/r/germany/wiki/autobahn_safety',\n",
       " 'content': 'The Autobahn is a [network of interstate highways in Germany](https://en.m.wikipedia.org/wiki/Autobahn#/media/File%3AAutobahnen_in_Deutschland.svg) with a total length of more than 8,000 miles. [65%](https://en.wikipedia.org/wiki/Autobahn#Speed_limits) of the Autobahn has no speed limit. How safe can that be?\\nVehicles traveled 147 billion miles on the Autobahn in 2015. 322 people died = 2.19 deaths per billion miles.\\nIn the US, vehicles travelled 757 billion miles on interstate highways. 3,837 people died = 5.07 deaths per billion miles.\\nThat means: If you drive on the interstate, your likelihood to die is 131% higher than for the same distance on the Autobahn.\\n*sources:*\\nStatistisches Bundesamt: [Unfallentwicklung auf deutschen Straßen 2015](https://www.destatis.de/DE/PresseService/Presse/Pressekonferenzen/2016/Unfallentwicklung_2015/Pressebroschuere_unfallentwicklung.pdf?__blob=publicationFile)\\nNational Highway Traffic Safety Administration: [Fatal Crashes by STATE and Road Function Class 2015](https://www-fars.nhtsa.dot.gov/)\\nU. S. Department of Transportation: [Traffic Volume Trends December 2015](https://www.fhwa.dot.gov/policyinformation/travel_monitoring/15dectvt/15dectvt.pdf)',\n",
       " 'headline': 'How safe is the Autobahn?',\n",
       " 'id': '9d8370cf-a2c8-4c54-9f9c-476b9c09a933',\n",
       " 'length': 1202,\n",
       " 'question': 'What are the safety statistics comparing the Autobahn to US interstate highways?'}"
      ]
     },
     "execution_count": 26,
     "metadata": {},
     "output_type": "execute_result"
    }
   ],
   "source": [
    "test[0]"
   ]
  },
  {
   "cell_type": "code",
   "execution_count": 27,
   "metadata": {},
   "outputs": [],
   "source": [
    "with open('doc_with_q_4o-mini.json', 'wt') as f_out:\n",
    "    json.dump(test, f_out, indent=2)"
   ]
  },
  {
   "cell_type": "markdown",
   "metadata": {},
   "source": [
    "## Llama 3.1"
   ]
  },
  {
   "cell_type": "code",
   "execution_count": 30,
   "metadata": {},
   "outputs": [],
   "source": [
    "llama3 = Client(\n",
    "    base_url='http://localhost:11434/v1/',\n",
    "    api_key='ollama',\n",
    ")"
   ]
  },
  {
   "cell_type": "code",
   "execution_count": 45,
   "metadata": {},
   "outputs": [],
   "source": [
    "def generate_questions(prompt):\n",
    "    response = llama3.chat.completions.create(\n",
    "        model=\"llama3.1:70b\",\n",
    "        messages=[{\"role\": \"user\", \"content\": prompt}]\n",
    "    )\n",
    "\n",
    "    json_response = response.choices[0].message.content\n",
    "    return json_response"
   ]
  },
  {
   "cell_type": "code",
   "execution_count": 32,
   "metadata": {},
   "outputs": [
    {
     "data": {
      "text/plain": [
       "'How do I verify if my ancestor passed down German citizenship to me despite living abroad for multiple generations?'"
      ]
     },
     "execution_count": 32,
     "metadata": {},
     "output_type": "execute_result"
    }
   ],
   "source": [
    "generate_questions(documents[1])"
   ]
  },
  {
   "cell_type": "code",
   "execution_count": 50,
   "metadata": {},
   "outputs": [],
   "source": [
    "documents_new_llama = []"
   ]
  },
  {
   "cell_type": "code",
   "execution_count": 42,
   "metadata": {},
   "outputs": [
    {
     "data": {
      "text/plain": [
       "{'source': 'https://www.reddit.com/r/germany/wiki/autobahn_safety',\n",
       " 'content': 'The Autobahn is a [network of interstate highways in Germany](https://en.m.wikipedia.org/wiki/Autobahn#/media/File%3AAutobahnen_in_Deutschland.svg) with a total length of more than 8,000 miles. [65%](https://en.wikipedia.org/wiki/Autobahn#Speed_limits) of the Autobahn has no speed limit. How safe can that be?\\nVehicles traveled 147 billion miles on the Autobahn in 2015. 322 people died = 2.19 deaths per billion miles.\\nIn the US, vehicles travelled 757 billion miles on interstate highways. 3,837 people died = 5.07 deaths per billion miles.\\nThat means: If you drive on the interstate, your likelihood to die is 131% higher than for the same distance on the Autobahn.\\n*sources:*\\nStatistisches Bundesamt: [Unfallentwicklung auf deutschen Straßen 2015](https://www.destatis.de/DE/PresseService/Presse/Pressekonferenzen/2016/Unfallentwicklung_2015/Pressebroschuere_unfallentwicklung.pdf?__blob=publicationFile)\\nNational Highway Traffic Safety Administration: [Fatal Crashes by STATE and Road Function Class 2015](https://www-fars.nhtsa.dot.gov/)\\nU. S. Department of Transportation: [Traffic Volume Trends December 2015](https://www.fhwa.dot.gov/policyinformation/travel_monitoring/15dectvt/15dectvt.pdf)',\n",
       " 'headline': 'How safe is the Autobahn?',\n",
       " 'id': '9d8370cf-a2c8-4c54-9f9c-476b9c09a933',\n",
       " 'length': 1202}"
      ]
     },
     "execution_count": 42,
     "metadata": {},
     "output_type": "execute_result"
    }
   ],
   "source": [
    "documents[0]"
   ]
  },
  {
   "cell_type": "code",
   "execution_count": 52,
   "metadata": {},
   "outputs": [
    {
     "data": {
      "text/plain": [
       "614"
      ]
     },
     "execution_count": 52,
     "metadata": {},
     "output_type": "execute_result"
    }
   ],
   "source": [
    "question_map = {q['id']: q['question'] for q in  documents_new}\n",
    "test1 = list(map(lambda doc: {**doc, 'question': question_map.get(doc['id'], None)}, documents))\n",
    "len(test1)"
   ]
  },
  {
   "cell_type": "code",
   "execution_count": 51,
   "metadata": {},
   "outputs": [
    {
     "data": {
      "application/vnd.jupyter.widget-view+json": {
       "model_id": "31e6df4e737848adb472d539876f5c1b",
       "version_major": 2,
       "version_minor": 0
      },
      "text/plain": [
       "  0%|          | 0/614 [00:00<?, ?it/s]"
      ]
     },
     "metadata": {},
     "output_type": "display_data"
    }
   ],
   "source": [
    "for doc in tqdm(documents):\n",
    "    promt = get_prompt(doc)\n",
    "    res = generate_questions(promt)\n",
    "    id = doc[\"id\"]\n",
    "    documents_new_llama.append({\"id\":id, \"question\":res})\n",
    "    "
   ]
  },
  {
   "cell_type": "code",
   "execution_count": 53,
   "metadata": {},
   "outputs": [],
   "source": [
    "with open('doc_with_q_lama.json', 'wt') as f_out:\n",
    "    json.dump(test1, f_out, indent=2)"
   ]
  },
  {
   "cell_type": "code",
   "execution_count": 54,
   "metadata": {},
   "outputs": [
    {
     "data": {
      "text/plain": [
       "{'source': 'https://www.reddit.com/r/germany/wiki/autobahn_safety',\n",
       " 'content': 'The Autobahn is a [network of interstate highways in Germany](https://en.m.wikipedia.org/wiki/Autobahn#/media/File%3AAutobahnen_in_Deutschland.svg) with a total length of more than 8,000 miles. [65%](https://en.wikipedia.org/wiki/Autobahn#Speed_limits) of the Autobahn has no speed limit. How safe can that be?\\nVehicles traveled 147 billion miles on the Autobahn in 2015. 322 people died = 2.19 deaths per billion miles.\\nIn the US, vehicles travelled 757 billion miles on interstate highways. 3,837 people died = 5.07 deaths per billion miles.\\nThat means: If you drive on the interstate, your likelihood to die is 131% higher than for the same distance on the Autobahn.\\n*sources:*\\nStatistisches Bundesamt: [Unfallentwicklung auf deutschen Straßen 2015](https://www.destatis.de/DE/PresseService/Presse/Pressekonferenzen/2016/Unfallentwicklung_2015/Pressebroschuere_unfallentwicklung.pdf?__blob=publicationFile)\\nNational Highway Traffic Safety Administration: [Fatal Crashes by STATE and Road Function Class 2015](https://www-fars.nhtsa.dot.gov/)\\nU. S. Department of Transportation: [Traffic Volume Trends December 2015](https://www.fhwa.dot.gov/policyinformation/travel_monitoring/15dectvt/15dectvt.pdf)',\n",
       " 'headline': 'How safe is the Autobahn?',\n",
       " 'id': '9d8370cf-a2c8-4c54-9f9c-476b9c09a933',\n",
       " 'length': 1202,\n",
       " 'question': 'What are the safety statistics comparing the Autobahn to US interstate highways?'}"
      ]
     },
     "execution_count": 54,
     "metadata": {},
     "output_type": "execute_result"
    }
   ],
   "source": [
    "test1[0]"
   ]
  },
  {
   "cell_type": "code",
   "execution_count": null,
   "metadata": {},
   "outputs": [],
   "source": []
  }
 ],
 "metadata": {
  "kernelspec": {
   "display_name": "proje-m46awf8E",
   "language": "python",
   "name": "python3"
  },
  "language_info": {
   "codemirror_mode": {
    "name": "ipython",
    "version": 3
   },
   "file_extension": ".py",
   "mimetype": "text/x-python",
   "name": "python",
   "nbconvert_exporter": "python",
   "pygments_lexer": "ipython3",
   "version": "3.11.2"
  }
 },
 "nbformat": 4,
 "nbformat_minor": 2
}
